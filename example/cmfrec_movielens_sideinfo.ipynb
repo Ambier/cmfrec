{
 "cells": [
  {
   "cell_type": "markdown",
   "metadata": {},
   "source": [
    "# Collaborative filtering with side information\n",
    "** *\n",
    "This IPython notebook illustrates the usage of the [cmfrec](https://github.com/david-cortes/cmfrec) Python package for collective matrix factorization using the [MovieLens-100k data](https://grouplens.org/datasets/movielens/100k/), consisting of ratings from users about movies + user demographic information + movie genres.\n",
    "\n",
    "Collective matrix factorization is a technique for collaborative filtering with additional information about the users and items, based on low-rank joint factorization of different matrices with shared factors – for more details see the paper [_Singh, A. P., & Gordon, G. J. (2008, August). Relational learning via collective matrix factorization. In Proceedings of the 14th ACM SIGKDD international conference on Knowledge discovery and data mining (pp. 650-658). ACM._](http://ra.adm.cs.cmu.edu/anon/usr/ftp/ml2008/CMU-ML-08-109.pdf).\n",
    "\n",
    "** Small note: if the TOC here is not clickable or the math symbols don't show properly, try visualizing this same notebook from nbviewer following [this link](http://nbviewer.jupyter.org/github/david-cortes/cmfrec/blob/master/example/cmfrec_movielens_sideinfo.ipynb). **\n",
    "** *\n",
    "## Sections\n",
    "\n",
    "[1. Basic model - only movie ratings](#p1)\n",
    "* [1.1 Loading the ratings data](#p11)\n",
    "* [1.2 Train and test split](#p12)\n",
    "* [1.3 Fitting and evaluating the model](#p13)\n",
    "\n",
    "[2. Adding movie genres](#p2)\n",
    "* [2.1 Loading the movie genres info](#p21)\n",
    "* [2.2 Fitting and evaluating model with genres](#p22)\n",
    "\n",
    "[3. Adding movie genres and user demographic info](#p3)\n",
    "* [3.1 Loading the user demographic info](#p31)\n",
    "* [3.2 Getting user region from zip codes](#p32)\n",
    "* [3.2 Fitting and evaluating the full model](#p33)\n",
    "\n",
    "[4. Comparing recommendations](#p4)\n",
    "** *"
   ]
  },
  {
   "cell_type": "markdown",
   "metadata": {},
   "source": [
    "<a id=\"p1\"></a>\n",
    "## 1. Basic model - only movie ratings\n",
    "** *\n",
    "As a starting point, I'll first try the basic low-rank factorization model using ratings data alone - that is, trying to minimize the following function:\n",
    "\n",
    "$$ Loss\\:(U, V) = \\lVert X  - UV^T\\lVert^2\\: + \\:\\lambda\\: (\\lVert U \\lVert^2 + \\lVert V \\lVert^2) $$\n",
    "\n",
    "Where $U$ and $V$ are lower-dimensional matrices mapping users and items into a latent space - this is the classic model popularized by Funk. The predicted rating from this model for a given user $i$ and movie $j$ can be calculated as $U[i,:]*V[j,:]^T$\n",
    "\n",
    "<a id=\"p11\"></a>\n",
    "### 1.1 Loading the ratings data\n",
    "\n",
    "Here I'll load the MovieLens-100k ratings data, which can be downloaded from the link presented at the beginning:"
   ]
  },
  {
   "cell_type": "code",
   "execution_count": 1,
   "metadata": {
    "collapsed": false
   },
   "outputs": [
    {
     "data": {
      "text/html": [
       "<div>\n",
       "<style>\n",
       "    .dataframe thead tr:only-child th {\n",
       "        text-align: right;\n",
       "    }\n",
       "\n",
       "    .dataframe thead th {\n",
       "        text-align: left;\n",
       "    }\n",
       "\n",
       "    .dataframe tbody tr th {\n",
       "        vertical-align: top;\n",
       "    }\n",
       "</style>\n",
       "<table border=\"1\" class=\"dataframe\">\n",
       "  <thead>\n",
       "    <tr style=\"text-align: right;\">\n",
       "      <th></th>\n",
       "      <th>UserId</th>\n",
       "      <th>ItemId</th>\n",
       "      <th>Rating</th>\n",
       "      <th>Timestamp</th>\n",
       "    </tr>\n",
       "  </thead>\n",
       "  <tbody>\n",
       "    <tr>\n",
       "      <th>0</th>\n",
       "      <td>1</td>\n",
       "      <td>1</td>\n",
       "      <td>5</td>\n",
       "      <td>1997-09-23 01:02:38</td>\n",
       "    </tr>\n",
       "    <tr>\n",
       "      <th>1</th>\n",
       "      <td>1</td>\n",
       "      <td>2</td>\n",
       "      <td>3</td>\n",
       "      <td>1997-10-15 08:26:11</td>\n",
       "    </tr>\n",
       "    <tr>\n",
       "      <th>2</th>\n",
       "      <td>1</td>\n",
       "      <td>3</td>\n",
       "      <td>4</td>\n",
       "      <td>1997-11-03 09:42:40</td>\n",
       "    </tr>\n",
       "    <tr>\n",
       "      <th>3</th>\n",
       "      <td>1</td>\n",
       "      <td>4</td>\n",
       "      <td>3</td>\n",
       "      <td>1997-10-15 08:25:19</td>\n",
       "    </tr>\n",
       "    <tr>\n",
       "      <th>4</th>\n",
       "      <td>1</td>\n",
       "      <td>5</td>\n",
       "      <td>3</td>\n",
       "      <td>1998-03-13 03:15:12</td>\n",
       "    </tr>\n",
       "  </tbody>\n",
       "</table>\n",
       "</div>"
      ],
      "text/plain": [
       "   UserId  ItemId  Rating           Timestamp\n",
       "0       1       1       5 1997-09-23 01:02:38\n",
       "1       1       2       3 1997-10-15 08:26:11\n",
       "2       1       3       4 1997-11-03 09:42:40\n",
       "3       1       4       3 1997-10-15 08:25:19\n",
       "4       1       5       3 1998-03-13 03:15:12"
      ]
     },
     "execution_count": 1,
     "metadata": {},
     "output_type": "execute_result"
    }
   ],
   "source": [
    "import pandas as pd, time\n",
    "from datetime import datetime\n",
    "\n",
    "ratings=pd.read_table('D:\\\\Downloads\\\\movielens\\\\ml-100k\\\\ml-100k\\\\u.data',sep='\\t',engine='python',names=['UserId','ItemId','Rating','Timestamp'])\n",
    "ratings['Timestamp']=ratings.Timestamp.map(lambda x: datetime(*time.localtime(x)[:6])).map(lambda x: pd.to_datetime(x))\n",
    "ratings=ratings.sort_values(['UserId','ItemId']).reset_index(drop=True)\n",
    "ratings.head()"
   ]
  },
  {
   "cell_type": "markdown",
   "metadata": {},
   "source": [
    "<a id=\"p12\"></a>\n",
    "### 1.2 Train and test split\n",
    "\n",
    "In order to evaluate the model, I'll create a train and test set split to use throughout the whole notebook. As this kind of model can only recommend items that were in the training set to users who also were in the training set, I'll make the test set contain only elements that were present in the train set.\n",
    "\n",
    "In order to make this more realistic, I'll make it as a temporal split, i.e. splitting the ratings as those who were submitted before and after a certain time cutoff."
   ]
  },
  {
   "cell_type": "code",
   "execution_count": 2,
   "metadata": {
    "collapsed": false
   },
   "outputs": [
    {
     "name": "stdout",
     "output_type": "stream",
     "text": [
      "(52884, 4)\n",
      "(5835, 4)\n"
     ]
    }
   ],
   "source": [
    "time_cutoff='1998-01-01'\n",
    "train=ratings.loc[ratings.Timestamp<=time_cutoff]\n",
    "test=ratings.loc[ratings.Timestamp>time_cutoff]\n",
    "users_train=set(list(train.UserId))\n",
    "items_train=set(list(train.ItemId))\n",
    "test=test.loc[test.UserId.map(lambda x: x in users_train)]\n",
    "test=test.loc[test.ItemId.map(lambda x: x in items_train)]\n",
    "print(train.shape)\n",
    "print(test.shape)"
   ]
  },
  {
   "cell_type": "markdown",
   "metadata": {},
   "source": [
    "Note that this is a **very** small sample, in a typical setting you would have 3 or 4 orders of magnitude more. Nevertheless, this smallish data is enough to see a difference between models."
   ]
  },
  {
   "cell_type": "code",
   "execution_count": 3,
   "metadata": {
    "collapsed": false
   },
   "outputs": [
    {
     "name": "stdout",
     "output_type": "stream",
     "text": [
      "529\n",
      "1493\n"
     ]
    }
   ],
   "source": [
    "print(len(users_train))\n",
    "print(len(items_train))"
   ]
  },
  {
   "cell_type": "markdown",
   "metadata": {},
   "source": [
    "<a id=\"p13\"></a>\n",
    "### 1.3 Fitting and evaluating the model\n",
    "\n",
    "Traditionally, recommendations have been evaluated by their cross-validated RMSE (root mean squared error), but this is not really a good metric and higher values might not translate into better-liked recommendations. There are many additional metrics that can be used, but to keep this example simple, I’ll evaluate the rating that users would have given to the Top-5 recommendations from this model and compare this to recommendations by item popularity and to random recommendations."
   ]
  },
  {
   "cell_type": "code",
   "execution_count": 4,
   "metadata": {
    "collapsed": false
   },
   "outputs": [
    {
     "name": "stdout",
     "output_type": "stream",
     "text": [
      "\n",
      "******************************************************************************\n",
      "This program contains Ipopt, a library for large-scale nonlinear optimization.\n",
      " Ipopt is released as open source code under the Eclipse Public License (EPL).\n",
      "         For more information visit http://projects.coin-or.org/Ipopt\n",
      "******************************************************************************\n",
      "\n"
     ]
    }
   ],
   "source": [
    "from cmfrec import CMF\n",
    "import numpy as np\n",
    "\n",
    "# Number of latent factors\n",
    "k=40\n",
    "\n",
    "# Regularization parameter\n",
    "reg=10\n",
    "\n",
    "# Fitting the model\n",
    "rec=CMF(k=k, reg_param=reg)\n",
    "rec.fit(train, random_seed=12345)\n",
    "\n",
    "# Making predictions\n",
    "test['Predicted']=test.apply(lambda x: rec.predict(x['UserId'],x['ItemId']),axis=1)"
   ]
  },
  {
   "cell_type": "markdown",
   "metadata": {},
   "source": [
    "Evaluating Hold-Out RMSE (the hyperparameters had already been somewhat tuned by cross-validation)"
   ]
  },
  {
   "cell_type": "code",
   "execution_count": 5,
   "metadata": {
    "collapsed": false
   },
   "outputs": [
    {
     "data": {
      "text/plain": [
       "1.2647716220817762"
      ]
     },
     "execution_count": 5,
     "metadata": {},
     "output_type": "execute_result"
    }
   ],
   "source": [
    "np.sqrt(np.mean((test.Predicted-test.Rating)**2))"
   ]
  },
  {
   "cell_type": "markdown",
   "metadata": {
    "collapsed": false
   },
   "source": [
    "Basic evaluation of this model:"
   ]
  },
  {
   "cell_type": "code",
   "execution_count": 6,
   "metadata": {
    "collapsed": false
   },
   "outputs": [
    {
     "name": "stdout",
     "output_type": "stream",
     "text": [
      "Averge movie rating: 3.5602718818211856\n",
      "Average rating for top-5 rated by each user: 4.5298621745788665\n",
      "Average rating for bottom-5 rated by each user: 2.246554364471669\n",
      "Average rating for top-5 recommendations of best-rated movies: 4.029096477794793\n",
      "----------------------\n",
      "Average rating for top-5 recommendations from this model: 4.016845329249617\n",
      "Average rating for bottom-5 (non-)recommendations from this model: 3.116385911179173\n"
     ]
    }
   ],
   "source": [
    "avg_ratings=train.groupby('ItemId')['Rating'].mean().to_frame().rename(columns={\"Rating\":\"AvgRating\"})\n",
    "test2=pd.merge(test,avg_ratings,left_on='ItemId',right_index=True,how='left')\n",
    "\n",
    "print('Averge movie rating:',test2.groupby('UserId')['Rating'].mean().mean())\n",
    "print('Average rating for top-5 rated by each user:',test2.sort_values(['UserId','Rating'],ascending=False).groupby('UserId')['Rating'].head(5).mean())\n",
    "print('Average rating for bottom-5 rated by each user:',test2.sort_values(['UserId','Rating'],ascending=True).groupby('UserId')['Rating'].head(5).mean())\n",
    "print('Average rating for top-5 recommendations of best-rated movies:',test2.sort_values(['UserId','AvgRating'],ascending=False).groupby('UserId')['Rating'].head(5).mean())\n",
    "print('----------------------')\n",
    "print('Average rating for top-5 recommendations from this model:',test2.sort_values(['UserId','Predicted'],ascending=False).groupby('UserId')['Rating'].head(5).mean())\n",
    "print('Average rating for bottom-5 (non-)recommendations from this model:',test2.sort_values(['UserId','Predicted'],ascending=True).groupby('UserId')['Rating'].head(5).mean())"
   ]
  },
  {
   "cell_type": "markdown",
   "metadata": {},
   "source": [
    "The recommendations from this model are not bad, but the average rating of the Top-5 doesn't manage to beat a most-popular recommendation! This is not surprising given the small size of the ratings data though."
   ]
  },
  {
   "cell_type": "markdown",
   "metadata": {},
   "source": [
    "<a id=\"p2\"></a>\n",
    "## 2. Adding movie genres\n",
    "** *\n",
    "The previous model can be extended by adding some additional information about the movies - this can be done by also factorizing the movie-genre matrix and sharing the item-factor matrix in the factorization of the user-item ratings. Now the model becomes:\n",
    "\n",
    "$$ Loss\\:(U, V, Z) = \\lVert X  - UV^T\\lVert^2\\: + \\:\\lVert M-VZ^T \\lVert^2\\:  + \\:\\lambda\\: (\\lVert U \\lVert^2 + \\lVert V \\lVert^2 + \\lVert Z \\lVert^2) $$\n",
    "\n",
    "Where $U$, $V$ and $Z$ are lower-dimensional matrices mapping users, items and genres into a latent space. The predicted rating from this model for a given user $i$ and movie $j$ is still calculated the same as before: $U[i,:]*V[j,:]^T$. However, we can intuitively think that an item-factor matrix that also represents genres might be better than one that does not, and less likely to overfit, as these factors are not so free.\n",
    "\n",
    "The matrix $V$ however doesn't need to be exactly the same in both terms - we can also add some additional factors that appear in only one factorization, making the follwing formula:\n",
    "\n",
    "$$ Loss\\:(U, V, Z) = \\lVert X  - UV_{main}^T\\lVert^2\\: + \\:\\lVert M-V_{sec}Z^T \\lVert^2\\:  + \\:\\lambda\\: (\\lVert U \\lVert^2 + \\lVert V \\lVert^2 + \\lVert Z \\lVert^2) $$\n",
    "\n",
    "Where $ V_{main} = V_{[1\\:to\\:k_{main} + k_{shared} ,\\:\\cdot]}$ and $V_{sec} = V_{[k_{main} +1 \\:to\\: k_{main} + k_{shared} + k_{sec},\\:\\cdot]}$\n",
    "\n",
    "\n",
    "<a id=\"p21\"></a>\n",
    "### 2.1 Loading the movie genres info\n",
    "\n",
    "The MovieLens-100k data also comes with a file containing movie information that we can use to enhance the model - note that the package requires the item side information to have a column named _ItemId_ when you pass it to the API. If your data doesn't require any reindexing, you can also pass it as a numpy array and set the option reindex to False."
   ]
  },
  {
   "cell_type": "code",
   "execution_count": 7,
   "metadata": {
    "collapsed": false
   },
   "outputs": [
    {
     "data": {
      "text/html": [
       "<div>\n",
       "<style>\n",
       "    .dataframe thead tr:only-child th {\n",
       "        text-align: right;\n",
       "    }\n",
       "\n",
       "    .dataframe thead th {\n",
       "        text-align: left;\n",
       "    }\n",
       "\n",
       "    .dataframe tbody tr th {\n",
       "        vertical-align: top;\n",
       "    }\n",
       "</style>\n",
       "<table border=\"1\" class=\"dataframe\">\n",
       "  <thead>\n",
       "    <tr style=\"text-align: right;\">\n",
       "      <th></th>\n",
       "      <th>ItemId</th>\n",
       "      <th>genre0</th>\n",
       "      <th>genre1</th>\n",
       "      <th>genre2</th>\n",
       "      <th>genre3</th>\n",
       "      <th>genre4</th>\n",
       "      <th>genre5</th>\n",
       "      <th>genre6</th>\n",
       "      <th>genre7</th>\n",
       "      <th>genre8</th>\n",
       "      <th>genre9</th>\n",
       "      <th>genre10</th>\n",
       "      <th>genre11</th>\n",
       "      <th>genre12</th>\n",
       "      <th>genre13</th>\n",
       "      <th>genre14</th>\n",
       "      <th>genre15</th>\n",
       "      <th>genre16</th>\n",
       "      <th>genre17</th>\n",
       "      <th>genre18</th>\n",
       "    </tr>\n",
       "  </thead>\n",
       "  <tbody>\n",
       "    <tr>\n",
       "      <th>0</th>\n",
       "      <td>1</td>\n",
       "      <td>0</td>\n",
       "      <td>0</td>\n",
       "      <td>0</td>\n",
       "      <td>1</td>\n",
       "      <td>1</td>\n",
       "      <td>1</td>\n",
       "      <td>0</td>\n",
       "      <td>0</td>\n",
       "      <td>0</td>\n",
       "      <td>0</td>\n",
       "      <td>0</td>\n",
       "      <td>0</td>\n",
       "      <td>0</td>\n",
       "      <td>0</td>\n",
       "      <td>0</td>\n",
       "      <td>0</td>\n",
       "      <td>0</td>\n",
       "      <td>0</td>\n",
       "      <td>0</td>\n",
       "    </tr>\n",
       "    <tr>\n",
       "      <th>1</th>\n",
       "      <td>2</td>\n",
       "      <td>0</td>\n",
       "      <td>1</td>\n",
       "      <td>1</td>\n",
       "      <td>0</td>\n",
       "      <td>0</td>\n",
       "      <td>0</td>\n",
       "      <td>0</td>\n",
       "      <td>0</td>\n",
       "      <td>0</td>\n",
       "      <td>0</td>\n",
       "      <td>0</td>\n",
       "      <td>0</td>\n",
       "      <td>0</td>\n",
       "      <td>0</td>\n",
       "      <td>0</td>\n",
       "      <td>0</td>\n",
       "      <td>1</td>\n",
       "      <td>0</td>\n",
       "      <td>0</td>\n",
       "    </tr>\n",
       "    <tr>\n",
       "      <th>2</th>\n",
       "      <td>3</td>\n",
       "      <td>0</td>\n",
       "      <td>0</td>\n",
       "      <td>0</td>\n",
       "      <td>0</td>\n",
       "      <td>0</td>\n",
       "      <td>0</td>\n",
       "      <td>0</td>\n",
       "      <td>0</td>\n",
       "      <td>0</td>\n",
       "      <td>0</td>\n",
       "      <td>0</td>\n",
       "      <td>0</td>\n",
       "      <td>0</td>\n",
       "      <td>0</td>\n",
       "      <td>0</td>\n",
       "      <td>0</td>\n",
       "      <td>1</td>\n",
       "      <td>0</td>\n",
       "      <td>0</td>\n",
       "    </tr>\n",
       "    <tr>\n",
       "      <th>3</th>\n",
       "      <td>4</td>\n",
       "      <td>0</td>\n",
       "      <td>1</td>\n",
       "      <td>0</td>\n",
       "      <td>0</td>\n",
       "      <td>0</td>\n",
       "      <td>1</td>\n",
       "      <td>0</td>\n",
       "      <td>0</td>\n",
       "      <td>1</td>\n",
       "      <td>0</td>\n",
       "      <td>0</td>\n",
       "      <td>0</td>\n",
       "      <td>0</td>\n",
       "      <td>0</td>\n",
       "      <td>0</td>\n",
       "      <td>0</td>\n",
       "      <td>0</td>\n",
       "      <td>0</td>\n",
       "      <td>0</td>\n",
       "    </tr>\n",
       "    <tr>\n",
       "      <th>4</th>\n",
       "      <td>5</td>\n",
       "      <td>0</td>\n",
       "      <td>0</td>\n",
       "      <td>0</td>\n",
       "      <td>0</td>\n",
       "      <td>0</td>\n",
       "      <td>0</td>\n",
       "      <td>1</td>\n",
       "      <td>0</td>\n",
       "      <td>1</td>\n",
       "      <td>0</td>\n",
       "      <td>0</td>\n",
       "      <td>0</td>\n",
       "      <td>0</td>\n",
       "      <td>0</td>\n",
       "      <td>0</td>\n",
       "      <td>0</td>\n",
       "      <td>1</td>\n",
       "      <td>0</td>\n",
       "      <td>0</td>\n",
       "    </tr>\n",
       "  </tbody>\n",
       "</table>\n",
       "</div>"
      ],
      "text/plain": [
       "   ItemId  genre0  genre1  genre2  genre3  genre4  genre5  genre6  genre7  \\\n",
       "0       1       0       0       0       1       1       1       0       0   \n",
       "1       2       0       1       1       0       0       0       0       0   \n",
       "2       3       0       0       0       0       0       0       0       0   \n",
       "3       4       0       1       0       0       0       1       0       0   \n",
       "4       5       0       0       0       0       0       0       1       0   \n",
       "\n",
       "   genre8  genre9  genre10  genre11  genre12  genre13  genre14  genre15  \\\n",
       "0       0       0        0        0        0        0        0        0   \n",
       "1       0       0        0        0        0        0        0        0   \n",
       "2       0       0        0        0        0        0        0        0   \n",
       "3       1       0        0        0        0        0        0        0   \n",
       "4       1       0        0        0        0        0        0        0   \n",
       "\n",
       "   genre16  genre17  genre18  \n",
       "0        0        0        0  \n",
       "1        1        0        0  \n",
       "2        1        0        0  \n",
       "3        0        0        0  \n",
       "4        1        0        0  "
      ]
     },
     "execution_count": 7,
     "metadata": {},
     "output_type": "execute_result"
    }
   ],
   "source": [
    "colnames=['ItemId','Title','ReleaseDate','Sep','Link']+['genre'+str(i) for i in range(19)]\n",
    "genres=pd.read_table('D:\\\\Downloads\\\\movielens\\\\ml-100k\\\\ml-100k\\\\u.item',sep=\"|\",engine='python',names=colnames)\n",
    "\n",
    "# will save the movie titles for later\n",
    "movie_id_to_title={i.ItemId:i.Title for i in genres.itertuples()}\n",
    "\n",
    "genres=genres[['ItemId']+['genre'+str(i) for i in range(19)]]\n",
    "genres.head()"
   ]
  },
  {
   "cell_type": "markdown",
   "metadata": {},
   "source": [
    "<a id=\"p22\"></a>\n",
    "### 2.2 Fitting and evaluating model with genres\n",
    "\n",
    "These hypterparameters (number of factors and regularization) were also somewhat tuned beforehand:"
   ]
  },
  {
   "cell_type": "code",
   "execution_count": 8,
   "metadata": {
    "collapsed": true
   },
   "outputs": [],
   "source": [
    "# Number of latent factors\n",
    "k=30\n",
    "k_main=10\n",
    "k_sec=10\n",
    "\n",
    "# Regularization parameter\n",
    "reg=10\n",
    "\n",
    "# Fitting the model\n",
    "rec2=CMF(k=k, k_main=k_main, k_item=k_sec, reg_param=reg)\n",
    "rec2.fit(train, genres, random_seed=10000)\n",
    "\n",
    "# Making predictions\n",
    "test['Predicted']=test.apply(lambda x: rec2.predict(x['UserId'],x['ItemId']),axis=1)"
   ]
  },
  {
   "cell_type": "markdown",
   "metadata": {},
   "source": [
    "RMSE now:"
   ]
  },
  {
   "cell_type": "code",
   "execution_count": 9,
   "metadata": {
    "collapsed": false
   },
   "outputs": [
    {
     "data": {
      "text/plain": [
       "1.2610262136540786"
      ]
     },
     "execution_count": 9,
     "metadata": {},
     "output_type": "execute_result"
    }
   ],
   "source": [
    "np.sqrt(np.mean((test.Predicted-test.Rating)**2))"
   ]
  },
  {
   "cell_type": "markdown",
   "metadata": {},
   "source": [
    "Same evaluation as before:"
   ]
  },
  {
   "cell_type": "code",
   "execution_count": 10,
   "metadata": {
    "collapsed": false
   },
   "outputs": [
    {
     "name": "stdout",
     "output_type": "stream",
     "text": [
      "Averge movie rating: 3.5602718818211856\n",
      "Average rating for top-5 rated by each user: 4.5298621745788665\n",
      "Average rating for bottom-5 rated by each user: 2.246554364471669\n",
      "Average rating for top-5 recommendations of best-rated movies: 4.029096477794793\n",
      "----------------------\n",
      "Average rating for top-5 recommendations from this model: 4.03062787136294\n",
      "Average rating for bottom-5 (non-)recommendations from this model: 3.113323124042879\n"
     ]
    }
   ],
   "source": [
    "test2=pd.merge(test,avg_ratings,left_on='ItemId',right_index=True,how='left')\n",
    "\n",
    "print('Averge movie rating:',test2.groupby('UserId')['Rating'].mean().mean())\n",
    "print('Average rating for top-5 rated by each user:',test2.sort_values(['UserId','Rating'],ascending=False).groupby('UserId')['Rating'].head(5).mean())\n",
    "print('Average rating for bottom-5 rated by each user:',test2.sort_values(['UserId','Rating'],ascending=True).groupby('UserId')['Rating'].head(5).mean())\n",
    "print('Average rating for top-5 recommendations of best-rated movies:',test2.sort_values(['UserId','AvgRating'],ascending=False).groupby('UserId')['Rating'].head(5).mean())\n",
    "print('----------------------')\n",
    "print('Average rating for top-5 recommendations from this model:',test2.sort_values(['UserId','Predicted'],ascending=False).groupby('UserId')['Rating'].head(5).mean())\n",
    "print('Average rating for bottom-5 (non-)recommendations from this model:',test2.sort_values(['UserId','Predicted'],ascending=True).groupby('UserId')['Rating'].head(5).mean())"
   ]
  },
  {
   "cell_type": "markdown",
   "metadata": {},
   "source": [
    "Now we see a bit of an improvement - it's not too large, but it's nevertheless an improvement, and this time these personalized recommendations get overall higher ratings than most-popular recommendations with as little as 50k ratings.\n",
    "\n",
    "Knowing these  generic genres shouldn't be a complete game changer so this is expected."
   ]
  },
  {
   "cell_type": "markdown",
   "metadata": {},
   "source": [
    "<a id=\"p3\"></a>\n",
    "## 2. Adding movie genres and user demographic info\n",
    "** *\n",
    "The previous model can be extended to incorporate user information in the same way as it added movie genres:\n",
    "\n",
    "\n",
    "$$ Loss\\:(U, V, Z, P) = \\lVert X  - UV^T\\lVert^2\\: + \\:\\lVert M-VZ^T \\lVert^2\\: + \\:\\lVert Q-UP^T \\lVert^2\\:  + \\:\\lambda\\: (\\lVert U \\lVert^2 + \\lVert V \\lVert^2 + \\lVert Z \\lVert^2 + \\lVert P \\lVert^2) $$\n",
    "\n",
    "Where $Q$ is the user attribute matrix and $P$ is the new attribute-factor matrix - same as before, some of the factors can be shared and some be specific to one factorization.\n",
    "\n",
    "Intuitively, since in a typical setting there are usually more users than items (not in this particular example though), and each user has on average fewer rated movies than movies have users rating them, it would be logical to assume that detailed user information should be more valuable than detailed item information.\n",
    "\n",
    "<a id=\"p31\"></a>\n",
    "### 3.1 Loading the user demographic info\n",
    "\n",
    "The MovieLens-100k data also comes with user demographic information - same as before, the data frame passed to the package API should have a column named _UserId_:"
   ]
  },
  {
   "cell_type": "code",
   "execution_count": 11,
   "metadata": {
    "collapsed": false
   },
   "outputs": [
    {
     "data": {
      "text/html": [
       "<div>\n",
       "<style>\n",
       "    .dataframe thead tr:only-child th {\n",
       "        text-align: right;\n",
       "    }\n",
       "\n",
       "    .dataframe thead th {\n",
       "        text-align: left;\n",
       "    }\n",
       "\n",
       "    .dataframe tbody tr th {\n",
       "        vertical-align: top;\n",
       "    }\n",
       "</style>\n",
       "<table border=\"1\" class=\"dataframe\">\n",
       "  <thead>\n",
       "    <tr style=\"text-align: right;\">\n",
       "      <th></th>\n",
       "      <th>UserId</th>\n",
       "      <th>Age</th>\n",
       "      <th>Gender</th>\n",
       "      <th>Occupation</th>\n",
       "      <th>Zipcode</th>\n",
       "    </tr>\n",
       "  </thead>\n",
       "  <tbody>\n",
       "    <tr>\n",
       "      <th>0</th>\n",
       "      <td>1</td>\n",
       "      <td>24</td>\n",
       "      <td>M</td>\n",
       "      <td>technician</td>\n",
       "      <td>85711</td>\n",
       "    </tr>\n",
       "    <tr>\n",
       "      <th>1</th>\n",
       "      <td>2</td>\n",
       "      <td>53</td>\n",
       "      <td>F</td>\n",
       "      <td>other</td>\n",
       "      <td>94043</td>\n",
       "    </tr>\n",
       "    <tr>\n",
       "      <th>2</th>\n",
       "      <td>3</td>\n",
       "      <td>23</td>\n",
       "      <td>M</td>\n",
       "      <td>writer</td>\n",
       "      <td>32067</td>\n",
       "    </tr>\n",
       "    <tr>\n",
       "      <th>3</th>\n",
       "      <td>4</td>\n",
       "      <td>24</td>\n",
       "      <td>M</td>\n",
       "      <td>technician</td>\n",
       "      <td>43537</td>\n",
       "    </tr>\n",
       "    <tr>\n",
       "      <th>4</th>\n",
       "      <td>5</td>\n",
       "      <td>33</td>\n",
       "      <td>F</td>\n",
       "      <td>other</td>\n",
       "      <td>15213</td>\n",
       "    </tr>\n",
       "  </tbody>\n",
       "</table>\n",
       "</div>"
      ],
      "text/plain": [
       "   UserId  Age Gender  Occupation Zipcode\n",
       "0       1   24      M  technician   85711\n",
       "1       2   53      F       other   94043\n",
       "2       3   23      M      writer   32067\n",
       "3       4   24      M  technician   43537\n",
       "4       5   33      F       other   15213"
      ]
     },
     "execution_count": 11,
     "metadata": {},
     "output_type": "execute_result"
    }
   ],
   "source": [
    "user_info=pd.read_table('D:\\\\Downloads\\\\movielens\\\\ml-100k\\\\ml-100k\\\\u.user',sep=\"|\",engine='python',\n",
    "                        names=['UserId','Age','Gender','Occupation','Zipcode'])\n",
    "user_info.head()"
   ]
  },
  {
   "cell_type": "markdown",
   "metadata": {},
   "source": [
    "This time, unfortunately, not all the information can be used as it is in the file. The zip code can still provide valuable information if we can link it to a broader geographical area. As these are mostly US users, I'll try to link it to US regions here.\n",
    "\n",
    "In order to do so, I’m using a [publicly available table](http://federalgovernmentzipcodes.us/) mapping zip codes to states, [another one](http://www.fonz.net/blog/archives/2008/04/06/csv-of-states-and-state-abbreviations/) mapping state names to their abbreviations, and finally classifying the states into regions according to [usual definitions](https://www.infoplease.com/us/states/sizing-states).\n",
    "\n",
    "<a id=\"p32\"></a>\n",
    "### 3.2 Getting user region from zip codes"
   ]
  },
  {
   "cell_type": "code",
   "execution_count": 12,
   "metadata": {
    "collapsed": false
   },
   "outputs": [
    {
     "name": "stderr",
     "output_type": "stream",
     "text": [
      "C:\\Users\\david\\Anaconda3\\lib\\site-packages\\IPython\\core\\interactiveshell.py:2723: DtypeWarning: Columns (11) have mixed types. Specify dtype option on import or set low_memory=False.\n",
      "  interactivity=interactivity, compiler=compiler, result=result)\n"
     ]
    },
    {
     "data": {
      "text/html": [
       "<div>\n",
       "<style>\n",
       "    .dataframe thead tr:only-child th {\n",
       "        text-align: right;\n",
       "    }\n",
       "\n",
       "    .dataframe thead th {\n",
       "        text-align: left;\n",
       "    }\n",
       "\n",
       "    .dataframe tbody tr th {\n",
       "        vertical-align: top;\n",
       "    }\n",
       "</style>\n",
       "<table border=\"1\" class=\"dataframe\">\n",
       "  <thead>\n",
       "    <tr style=\"text-align: right;\">\n",
       "      <th></th>\n",
       "      <th>UserId</th>\n",
       "      <th>Age</th>\n",
       "      <th>Gender_F</th>\n",
       "      <th>Gender_M</th>\n",
       "      <th>Occupation_administrator</th>\n",
       "      <th>Occupation_artist</th>\n",
       "      <th>Occupation_doctor</th>\n",
       "      <th>Occupation_educator</th>\n",
       "      <th>Occupation_engineer</th>\n",
       "      <th>Occupation_entertainment</th>\n",
       "      <th>...</th>\n",
       "      <th>Occupation_technician</th>\n",
       "      <th>Occupation_writer</th>\n",
       "      <th>Region_Middle Atlantic</th>\n",
       "      <th>Region_Midwest</th>\n",
       "      <th>Region_New England</th>\n",
       "      <th>Region_South</th>\n",
       "      <th>Region_Southwest</th>\n",
       "      <th>Region_UnknownOrNonUS</th>\n",
       "      <th>Region_UsOther</th>\n",
       "      <th>Region_West</th>\n",
       "    </tr>\n",
       "  </thead>\n",
       "  <tbody>\n",
       "    <tr>\n",
       "      <th>0</th>\n",
       "      <td>1</td>\n",
       "      <td>24</td>\n",
       "      <td>0</td>\n",
       "      <td>1</td>\n",
       "      <td>0</td>\n",
       "      <td>0</td>\n",
       "      <td>0</td>\n",
       "      <td>0</td>\n",
       "      <td>0</td>\n",
       "      <td>0</td>\n",
       "      <td>...</td>\n",
       "      <td>1</td>\n",
       "      <td>0</td>\n",
       "      <td>0</td>\n",
       "      <td>0</td>\n",
       "      <td>0</td>\n",
       "      <td>0</td>\n",
       "      <td>1</td>\n",
       "      <td>0</td>\n",
       "      <td>0</td>\n",
       "      <td>0</td>\n",
       "    </tr>\n",
       "    <tr>\n",
       "      <th>1</th>\n",
       "      <td>2</td>\n",
       "      <td>53</td>\n",
       "      <td>1</td>\n",
       "      <td>0</td>\n",
       "      <td>0</td>\n",
       "      <td>0</td>\n",
       "      <td>0</td>\n",
       "      <td>0</td>\n",
       "      <td>0</td>\n",
       "      <td>0</td>\n",
       "      <td>...</td>\n",
       "      <td>0</td>\n",
       "      <td>0</td>\n",
       "      <td>0</td>\n",
       "      <td>0</td>\n",
       "      <td>0</td>\n",
       "      <td>0</td>\n",
       "      <td>0</td>\n",
       "      <td>0</td>\n",
       "      <td>0</td>\n",
       "      <td>1</td>\n",
       "    </tr>\n",
       "    <tr>\n",
       "      <th>2</th>\n",
       "      <td>3</td>\n",
       "      <td>23</td>\n",
       "      <td>0</td>\n",
       "      <td>1</td>\n",
       "      <td>0</td>\n",
       "      <td>0</td>\n",
       "      <td>0</td>\n",
       "      <td>0</td>\n",
       "      <td>0</td>\n",
       "      <td>0</td>\n",
       "      <td>...</td>\n",
       "      <td>0</td>\n",
       "      <td>1</td>\n",
       "      <td>0</td>\n",
       "      <td>0</td>\n",
       "      <td>0</td>\n",
       "      <td>1</td>\n",
       "      <td>0</td>\n",
       "      <td>0</td>\n",
       "      <td>0</td>\n",
       "      <td>0</td>\n",
       "    </tr>\n",
       "    <tr>\n",
       "      <th>3</th>\n",
       "      <td>4</td>\n",
       "      <td>24</td>\n",
       "      <td>0</td>\n",
       "      <td>1</td>\n",
       "      <td>0</td>\n",
       "      <td>0</td>\n",
       "      <td>0</td>\n",
       "      <td>0</td>\n",
       "      <td>0</td>\n",
       "      <td>0</td>\n",
       "      <td>...</td>\n",
       "      <td>1</td>\n",
       "      <td>0</td>\n",
       "      <td>0</td>\n",
       "      <td>1</td>\n",
       "      <td>0</td>\n",
       "      <td>0</td>\n",
       "      <td>0</td>\n",
       "      <td>0</td>\n",
       "      <td>0</td>\n",
       "      <td>0</td>\n",
       "    </tr>\n",
       "    <tr>\n",
       "      <th>4</th>\n",
       "      <td>5</td>\n",
       "      <td>33</td>\n",
       "      <td>1</td>\n",
       "      <td>0</td>\n",
       "      <td>0</td>\n",
       "      <td>0</td>\n",
       "      <td>0</td>\n",
       "      <td>0</td>\n",
       "      <td>0</td>\n",
       "      <td>0</td>\n",
       "      <td>...</td>\n",
       "      <td>0</td>\n",
       "      <td>0</td>\n",
       "      <td>1</td>\n",
       "      <td>0</td>\n",
       "      <td>0</td>\n",
       "      <td>0</td>\n",
       "      <td>0</td>\n",
       "      <td>0</td>\n",
       "      <td>0</td>\n",
       "      <td>0</td>\n",
       "    </tr>\n",
       "  </tbody>\n",
       "</table>\n",
       "<p>5 rows × 33 columns</p>\n",
       "</div>"
      ],
      "text/plain": [
       "   UserId  Age  Gender_F  Gender_M  Occupation_administrator  \\\n",
       "0       1   24         0         1                         0   \n",
       "1       2   53         1         0                         0   \n",
       "2       3   23         0         1                         0   \n",
       "3       4   24         0         1                         0   \n",
       "4       5   33         1         0                         0   \n",
       "\n",
       "   Occupation_artist  Occupation_doctor  Occupation_educator  \\\n",
       "0                  0                  0                    0   \n",
       "1                  0                  0                    0   \n",
       "2                  0                  0                    0   \n",
       "3                  0                  0                    0   \n",
       "4                  0                  0                    0   \n",
       "\n",
       "   Occupation_engineer  Occupation_entertainment     ...       \\\n",
       "0                    0                         0     ...        \n",
       "1                    0                         0     ...        \n",
       "2                    0                         0     ...        \n",
       "3                    0                         0     ...        \n",
       "4                    0                         0     ...        \n",
       "\n",
       "   Occupation_technician  Occupation_writer  Region_Middle Atlantic  \\\n",
       "0                      1                  0                       0   \n",
       "1                      0                  0                       0   \n",
       "2                      0                  1                       0   \n",
       "3                      1                  0                       0   \n",
       "4                      0                  0                       1   \n",
       "\n",
       "   Region_Midwest  Region_New England  Region_South  Region_Southwest  \\\n",
       "0               0                   0             0                 1   \n",
       "1               0                   0             0                 0   \n",
       "2               0                   0             1                 0   \n",
       "3               1                   0             0                 0   \n",
       "4               0                   0             0                 0   \n",
       "\n",
       "   Region_UnknownOrNonUS  Region_UsOther  Region_West  \n",
       "0                      0               0            0  \n",
       "1                      0               0            1  \n",
       "2                      0               0            0  \n",
       "3                      0               0            0  \n",
       "4                      0               0            0  \n",
       "\n",
       "[5 rows x 33 columns]"
      ]
     },
     "execution_count": 12,
     "metadata": {},
     "output_type": "execute_result"
    }
   ],
   "source": [
    "import re\n",
    "\n",
    "zipcode_abbs=pd.read_csv(\"D:\\\\Downloads\\\\movielens\\\\zips\\\\states.csv\")\n",
    "zipcode_abbs_dct={z.State:z.Abbreviation for z in zipcode_abbs.itertuples()}\n",
    "us_regs_table=[\n",
    "    ('New England', 'Connecticut, Maine, Massachusetts, New Hampshire, Rhode Island, Vermont'),\n",
    "    ('Middle Atlantic', 'Delaware, Maryland, New Jersey, New York, Pennsylvania'),\n",
    "    ('South', 'Alabama, Arkansas, Florida, Georgia, Kentucky, Louisiana, Mississippi, Missouri, North Carolina, South Carolina, Tennessee, Virginia, West Virginia'),\n",
    "    ('Midwest', 'Illinois, Indiana, Iowa, Kansas, Michigan, Minnesota, Nebraska, North Dakota, Ohio, South Dakota, Wisconsin'),\n",
    "    ('Southwest', 'Arizona, New Mexico, Oklahoma, Texas'),\n",
    "    ('West', 'Alaska, California, Colorado, Hawaii, Idaho, Montana, Nevada, Oregon, Utah, Washington, Wyoming')\n",
    "    ]\n",
    "us_regs_table=[(x[0],[i.strip() for i in x[1].split(\",\")]) for x in us_regs_table]\n",
    "us_regs_dct=dict()\n",
    "for r in us_regs_table:\n",
    "    for s in r[1]:\n",
    "        us_regs_dct[zipcode_abbs_dct[s]]=r[0]\n",
    "        \n",
    "zipcode_info=pd.read_csv(\"D:\\\\Downloads\\\\movielens\\\\free-zipcode-database.csv\")\n",
    "zipcode_info=zipcode_info.groupby('Zipcode').first().reset_index()\n",
    "zipcode_info['State'].loc[zipcode_info.Country!=\"US\"]='UnknownOrNonUS'\n",
    "zipcode_info['Region']=zipcode_info['State'].copy()\n",
    "zipcode_info['Region'].loc[zipcode_info.Country==\"US\"]=zipcode_info.Region.loc[zipcode_info.Country==\"US\"].map(lambda x: us_regs_dct[x] if x in us_regs_dct else 'UsOther')\n",
    "zipcode_info=zipcode_info[['Zipcode', 'Region']]\n",
    "zipcode_info.head()\n",
    "\n",
    "def process_zip(zp):\n",
    "    try:\n",
    "        zp=np.int(zp)\n",
    "        return zp\n",
    "    except:\n",
    "        return np.nan\n",
    "\n",
    "user_info[\"Zipcode\"]=user_info.Zipcode.map(process_zip)\n",
    "user_info=pd.merge(user_info,zipcode_info,on='Zipcode',how='left')\n",
    "user_info['Region']=user_info.Region.fillna('UnknownOrNonUS')\n",
    "\n",
    "user_info=pd.get_dummies(user_info[['UserId','Age','Gender','Occupation','Region']])\n",
    "users_w_side_info=set(list(user_info.UserId))\n",
    "ratings=ratings.loc[ratings.UserId.map(lambda x: x in users_w_side_info)]\n",
    "\n",
    "user_info.head()"
   ]
  },
  {
   "cell_type": "markdown",
   "metadata": {},
   "source": [
    "<a id=\"p33\"></a>\n",
    "### 3.3 Fitting and evaluating the full model\n",
    "\n",
    "Adding explicit information gives the latent factors a more solid base, so fewer of them are needed the more side info there is available."
   ]
  },
  {
   "cell_type": "code",
   "execution_count": 13,
   "metadata": {
    "collapsed": true
   },
   "outputs": [],
   "source": [
    "# Number of latent factors\n",
    "k=30\n",
    "k_main=5\n",
    "k_genre=5\n",
    "k_demo=5\n",
    "\n",
    "# Regularization parameter\n",
    "reg=50\n",
    "\n",
    "# This time I'll weight the ratings matrix higher\n",
    "w_main=4\n",
    "\n",
    "# Fitting the model\n",
    "rec3=CMF(k=k, k_main=k_main, k_item=k_genre, k_user=k_demo, w_main=w_main, reg_param=reg)\n",
    "rec3.fit(train, genres, user_info, random_seed=32545)\n",
    "\n",
    "# Making predictions\n",
    "test['Predicted']=test.apply(lambda x: rec3.predict(x['UserId'],x['ItemId']),axis=1)"
   ]
  },
  {
   "cell_type": "markdown",
   "metadata": {},
   "source": [
    "Same metrics as before:"
   ]
  },
  {
   "cell_type": "code",
   "execution_count": 14,
   "metadata": {
    "collapsed": false
   },
   "outputs": [
    {
     "data": {
      "text/plain": [
       "1.2433900285807755"
      ]
     },
     "execution_count": 14,
     "metadata": {},
     "output_type": "execute_result"
    }
   ],
   "source": [
    "np.sqrt(np.mean((test.Predicted-test.Rating)**2))"
   ]
  },
  {
   "cell_type": "code",
   "execution_count": 15,
   "metadata": {
    "collapsed": false
   },
   "outputs": [
    {
     "name": "stdout",
     "output_type": "stream",
     "text": [
      "Averge movie rating: 3.5602718818211856\n",
      "Average rating for top-5 rated by each user: 4.5298621745788665\n",
      "Average rating for bottom-5 rated by each user: 2.246554364471669\n",
      "Average rating for top-5 recommendations of best-rated movies: 4.029096477794793\n",
      "----------------------\n",
      "Average rating for top-5 recommendations from this model: 4.062787136294028\n",
      "Average rating for bottom-5 (non-)recommendations from this model: 3.120980091883614\n"
     ]
    }
   ],
   "source": [
    "test2=pd.merge(test,avg_ratings,left_on='ItemId',right_index=True,how='left')\n",
    "\n",
    "print('Averge movie rating:',test2.groupby('UserId')['Rating'].mean().mean())\n",
    "print('Average rating for top-5 rated by each user:',test2.sort_values(['UserId','Rating'],ascending=False).groupby('UserId')['Rating'].head(5).mean())\n",
    "print('Average rating for bottom-5 rated by each user:',test2.sort_values(['UserId','Rating'],ascending=True).groupby('UserId')['Rating'].head(5).mean())\n",
    "print('Average rating for top-5 recommendations of best-rated movies:',test2.sort_values(['UserId','AvgRating'],ascending=False).groupby('UserId')['Rating'].head(5).mean())\n",
    "print('----------------------')\n",
    "print('Average rating for top-5 recommendations from this model:',test2.sort_values(['UserId','Predicted'],ascending=False).groupby('UserId')['Rating'].head(5).mean())\n",
    "print('Average rating for bottom-5 (non-)recommendations from this model:',test2.sort_values(['UserId','Predicted'],ascending=True).groupby('UserId')['Rating'].head(5).mean())"
   ]
  },
  {
   "cell_type": "markdown",
   "metadata": {},
   "source": [
    "This time the improvement was bigger and the Top-5 recommendations seem now to have increased by a bigger margin - with just adding the most basic demographic information!"
   ]
  },
  {
   "cell_type": "markdown",
   "metadata": {},
   "source": [
    "<a id=\"p4\"></a>\n",
    "## 4. Comparing recommendations\n",
    "** *\n",
    "\n",
    "Now let's see what are of each these models recommending to some randomly picked users, along with the overall item popularity:"
   ]
  },
  {
   "cell_type": "code",
   "execution_count": 16,
   "metadata": {
    "collapsed": false
   },
   "outputs": [],
   "source": [
    "# aggregate statistics\n",
    "avg_movie_rating=train.groupby('ItemId')['Rating'].mean()\n",
    "num_ratings_per_movie=train.groupby('ItemId')['Rating'].agg(lambda x: len(tuple(x)))\n",
    "\n",
    "# function to print recommended lists more nicely\n",
    "def print_reclist(reclist):\n",
    "    list_w_info=[str(m+1)+\") - \"+movie_id_to_title[reclist[m]]+\\\n",
    "        \" - Average Rating: \"+str(np.round(avg_movie_rating[reclist[m]],2))+\\\n",
    "        \" - Number of ratings: \"+str(num_ratings_per_movie[reclist[m]]) for m in range(len(reclist))]\n",
    "    print(\"\\n\".join(list_w_info))"
   ]
  },
  {
   "cell_type": "code",
   "execution_count": 17,
   "metadata": {
    "collapsed": false
   },
   "outputs": [
    {
     "name": "stdout",
     "output_type": "stream",
     "text": [
      "Recommendations from ratings-only model:\n",
      "1) - Fargo (1996) - Average Rating: 4.23 - Number of ratings: 301\n",
      "2) - Star Wars (1977) - Average Rating: 4.34 - Number of ratings: 335\n",
      "3) - Toy Story (1995) - Average Rating: 3.92 - Number of ratings: 267\n",
      "4) - Graduate, The (1967) - Average Rating: 4.19 - Number of ratings: 134\n",
      "5) - Big Night (1996) - Average Rating: 3.86 - Number of ratings: 103\n",
      "6) - Wrong Trousers, The (1993) - Average Rating: 4.59 - Number of ratings: 68\n",
      "7) - Princess Bride, The (1987) - Average Rating: 4.23 - Number of ratings: 184\n",
      "8) - 12 Angry Men (1957) - Average Rating: 4.3 - Number of ratings: 71\n",
      "9) - Antonia's Line (1995) - Average Rating: 4.07 - Number of ratings: 43\n",
      "10) - Shawshank Redemption, The (1994) - Average Rating: 4.56 - Number of ratings: 174\n",
      "11) - Dead Man Walking (1995) - Average Rating: 3.94 - Number of ratings: 185\n",
      "12) - Chasing Amy (1997) - Average Rating: 3.77 - Number of ratings: 119\n",
      "13) - Raiders of the Lost Ark (1981) - Average Rating: 4.32 - Number of ratings: 238\n",
      "14) - Full Monty, The (1997) - Average Rating: 4.06 - Number of ratings: 135\n",
      "15) - Godfather, The (1972) - Average Rating: 4.28 - Number of ratings: 237\n",
      "16) - Empire Strikes Back, The (1980) - Average Rating: 4.24 - Number of ratings: 201\n",
      "17) - Swingers (1996) - Average Rating: 3.93 - Number of ratings: 91\n",
      "18) - Chasing Amy (1997) - Average Rating: 4.03 - Number of ratings: 68\n",
      "19) - Blade Runner (1982) - Average Rating: 4.11 - Number of ratings: 151\n",
      "20) - Nikita (La Femme Nikita) (1990) - Average Rating: 4.13 - Number of ratings: 61\n",
      "------\n",
      "Recommendations from ratings + genre model:\n",
      "1) - Toy Story (1995) - Average Rating: 3.92 - Number of ratings: 267\n",
      "2) - Fargo (1996) - Average Rating: 4.23 - Number of ratings: 301\n",
      "3) - Star Wars (1977) - Average Rating: 4.34 - Number of ratings: 335\n",
      "4) - Shawshank Redemption, The (1994) - Average Rating: 4.56 - Number of ratings: 174\n",
      "5) - Princess Bride, The (1987) - Average Rating: 4.23 - Number of ratings: 184\n",
      "6) - Big Night (1996) - Average Rating: 3.86 - Number of ratings: 103\n",
      "7) - Dead Man Walking (1995) - Average Rating: 3.94 - Number of ratings: 185\n",
      "8) - Raiders of the Lost Ark (1981) - Average Rating: 4.32 - Number of ratings: 238\n",
      "9) - Graduate, The (1967) - Average Rating: 4.19 - Number of ratings: 134\n",
      "10) - Wrong Trousers, The (1993) - Average Rating: 4.59 - Number of ratings: 68\n",
      "11) - Full Monty, The (1997) - Average Rating: 4.06 - Number of ratings: 135\n",
      "12) - Godfather, The (1972) - Average Rating: 4.28 - Number of ratings: 237\n",
      "13) - Chasing Amy (1997) - Average Rating: 3.77 - Number of ratings: 119\n",
      "14) - 12 Angry Men (1957) - Average Rating: 4.3 - Number of ratings: 71\n",
      "15) - Antonia's Line (1995) - Average Rating: 4.07 - Number of ratings: 43\n",
      "16) - Chasing Amy (1997) - Average Rating: 4.03 - Number of ratings: 68\n",
      "17) - Empire Strikes Back, The (1980) - Average Rating: 4.24 - Number of ratings: 201\n",
      "18) - Monty Python and the Holy Grail (1974) - Average Rating: 4.14 - Number of ratings: 183\n",
      "19) - Return of the Jedi (1983) - Average Rating: 3.99 - Number of ratings: 300\n",
      "20) - Welcome to the Dollhouse (1995) - Average Rating: 3.86 - Number of ratings: 69\n",
      "------\n",
      "Recommendations from ratings + genre + demographics model:\n",
      "1) - Fargo (1996) - Average Rating: 4.23 - Number of ratings: 301\n",
      "2) - Star Wars (1977) - Average Rating: 4.34 - Number of ratings: 335\n",
      "3) - Shawshank Redemption, The (1994) - Average Rating: 4.56 - Number of ratings: 174\n",
      "4) - Toy Story (1995) - Average Rating: 3.92 - Number of ratings: 267\n",
      "5) - Wrong Trousers, The (1993) - Average Rating: 4.59 - Number of ratings: 68\n",
      "6) - Chasing Amy (1997) - Average Rating: 3.77 - Number of ratings: 119\n",
      "7) - Raiders of the Lost Ark (1981) - Average Rating: 4.32 - Number of ratings: 238\n",
      "8) - Princess Bride, The (1987) - Average Rating: 4.23 - Number of ratings: 184\n",
      "9) - Godfather, The (1972) - Average Rating: 4.28 - Number of ratings: 237\n",
      "10) - Swingers (1996) - Average Rating: 3.93 - Number of ratings: 91\n",
      "11) - Empire Strikes Back, The (1980) - Average Rating: 4.24 - Number of ratings: 201\n",
      "12) - Big Night (1996) - Average Rating: 3.86 - Number of ratings: 103\n",
      "13) - Full Monty, The (1997) - Average Rating: 4.06 - Number of ratings: 135\n",
      "14) - 12 Angry Men (1957) - Average Rating: 4.3 - Number of ratings: 71\n",
      "15) - Monty Python and the Holy Grail (1974) - Average Rating: 4.14 - Number of ratings: 183\n",
      "16) - Pulp Fiction (1994) - Average Rating: 4.16 - Number of ratings: 225\n",
      "17) - Chasing Amy (1997) - Average Rating: 4.03 - Number of ratings: 68\n",
      "18) - Dead Man Walking (1995) - Average Rating: 3.94 - Number of ratings: 185\n",
      "19) - Return of the Jedi (1983) - Average Rating: 3.99 - Number of ratings: 300\n",
      "20) - Nikita (La Femme Nikita) (1990) - Average Rating: 4.13 - Number of ratings: 61\n"
     ]
    }
   ],
   "source": [
    "# user 1\n",
    "reclist1=rec.top_n(UserId=1, n=20)\n",
    "reclist2=rec2.top_n(UserId=1, n=20)\n",
    "reclist3=rec3.top_n(UserId=1, n=20)\n",
    "\n",
    "print('Recommendations from ratings-only model:')\n",
    "print_reclist(reclist1)\n",
    "print(\"------\")\n",
    "print('Recommendations from ratings + genre model:')\n",
    "print_reclist(reclist2)\n",
    "print(\"------\")\n",
    "print('Recommendations from ratings + genre + demographics model:')\n",
    "print_reclist(reclist3)"
   ]
  },
  {
   "cell_type": "code",
   "execution_count": 18,
   "metadata": {
    "collapsed": false
   },
   "outputs": [
    {
     "name": "stdout",
     "output_type": "stream",
     "text": [
      "1) - Godfather, The (1972) - Average Rating: 4.28 - Number of ratings: 237\n",
      "2) - Fargo (1996) - Average Rating: 4.23 - Number of ratings: 301\n",
      "3) - Shawshank Redemption, The (1994) - Average Rating: 4.56 - Number of ratings: 174\n",
      "4) - Star Wars (1977) - Average Rating: 4.34 - Number of ratings: 335\n",
      "5) - Courage Under Fire (1996) - Average Rating: 3.58 - Number of ratings: 137\n",
      "6) - Rock, The (1996) - Average Rating: 3.72 - Number of ratings: 227\n",
      "7) - Raiders of the Lost Ark (1981) - Average Rating: 4.32 - Number of ratings: 238\n",
      "8) - Time to Kill, A (1996) - Average Rating: 3.67 - Number of ratings: 138\n",
      "9) - Return of the Jedi (1983) - Average Rating: 3.99 - Number of ratings: 300\n",
      "10) - People vs. Larry Flynt, The (1996) - Average Rating: 3.69 - Number of ratings: 123\n",
      "11) - Trainspotting (1996) - Average Rating: 3.93 - Number of ratings: 164\n",
      "12) - Mission: Impossible (1996) - Average Rating: 3.37 - Number of ratings: 209\n",
      "13) - Apollo 13 (1995) - Average Rating: 3.92 - Number of ratings: 160\n",
      "14) - Dead Man Walking (1995) - Average Rating: 3.94 - Number of ratings: 185\n",
      "15) - Independence Day (ID4) (1996) - Average Rating: 3.47 - Number of ratings: 258\n",
      "16) - Lone Star (1996) - Average Rating: 3.98 - Number of ratings: 119\n",
      "17) - Rumble in the Bronx (1995) - Average Rating: 3.45 - Number of ratings: 116\n",
      "18) - River Wild, The (1994) - Average Rating: 3.23 - Number of ratings: 84\n",
      "19) - Truth About Cats & Dogs, The (1996) - Average Rating: 3.51 - Number of ratings: 170\n",
      "20) - Broken Arrow (1996) - Average Rating: 3.04 - Number of ratings: 158\n",
      "Recommendations from ratings-only model:\n",
      "------\n",
      "Recommendations from ratings + genre model:\n",
      "1) - Fargo (1996) - Average Rating: 4.23 - Number of ratings: 301\n",
      "2) - Godfather, The (1972) - Average Rating: 4.28 - Number of ratings: 237\n",
      "3) - Shawshank Redemption, The (1994) - Average Rating: 4.56 - Number of ratings: 174\n",
      "4) - Star Wars (1977) - Average Rating: 4.34 - Number of ratings: 335\n",
      "5) - Courage Under Fire (1996) - Average Rating: 3.58 - Number of ratings: 137\n",
      "6) - Raiders of the Lost Ark (1981) - Average Rating: 4.32 - Number of ratings: 238\n",
      "7) - Rock, The (1996) - Average Rating: 3.72 - Number of ratings: 227\n",
      "8) - Time to Kill, A (1996) - Average Rating: 3.67 - Number of ratings: 138\n",
      "9) - Return of the Jedi (1983) - Average Rating: 3.99 - Number of ratings: 300\n",
      "10) - Mission: Impossible (1996) - Average Rating: 3.37 - Number of ratings: 209\n",
      "11) - People vs. Larry Flynt, The (1996) - Average Rating: 3.69 - Number of ratings: 123\n",
      "12) - Trainspotting (1996) - Average Rating: 3.93 - Number of ratings: 164\n",
      "13) - Apollo 13 (1995) - Average Rating: 3.92 - Number of ratings: 160\n",
      "14) - Dead Man Walking (1995) - Average Rating: 3.94 - Number of ratings: 185\n",
      "15) - Lone Star (1996) - Average Rating: 3.98 - Number of ratings: 119\n",
      "16) - Independence Day (ID4) (1996) - Average Rating: 3.47 - Number of ratings: 258\n",
      "17) - Rumble in the Bronx (1995) - Average Rating: 3.45 - Number of ratings: 116\n",
      "18) - River Wild, The (1994) - Average Rating: 3.23 - Number of ratings: 84\n",
      "19) - Broken Arrow (1996) - Average Rating: 3.04 - Number of ratings: 158\n",
      "20) - Truth About Cats & Dogs, The (1996) - Average Rating: 3.51 - Number of ratings: 170\n",
      "------\n",
      "Recommendations from ratings + genre + demographics model:\n",
      "1) - Godfather, The (1972) - Average Rating: 4.28 - Number of ratings: 237\n",
      "2) - Star Wars (1977) - Average Rating: 4.34 - Number of ratings: 335\n",
      "3) - Fargo (1996) - Average Rating: 4.23 - Number of ratings: 301\n",
      "4) - Shawshank Redemption, The (1994) - Average Rating: 4.56 - Number of ratings: 174\n",
      "5) - Rock, The (1996) - Average Rating: 3.72 - Number of ratings: 227\n",
      "6) - Raiders of the Lost Ark (1981) - Average Rating: 4.32 - Number of ratings: 238\n",
      "7) - Courage Under Fire (1996) - Average Rating: 3.58 - Number of ratings: 137\n",
      "8) - Return of the Jedi (1983) - Average Rating: 3.99 - Number of ratings: 300\n",
      "9) - Time to Kill, A (1996) - Average Rating: 3.67 - Number of ratings: 138\n",
      "10) - Mission: Impossible (1996) - Average Rating: 3.37 - Number of ratings: 209\n",
      "11) - Trainspotting (1996) - Average Rating: 3.93 - Number of ratings: 164\n",
      "12) - Apollo 13 (1995) - Average Rating: 3.92 - Number of ratings: 160\n",
      "13) - People vs. Larry Flynt, The (1996) - Average Rating: 3.69 - Number of ratings: 123\n",
      "14) - Dead Man Walking (1995) - Average Rating: 3.94 - Number of ratings: 185\n",
      "15) - Independence Day (ID4) (1996) - Average Rating: 3.47 - Number of ratings: 258\n",
      "16) - Rumble in the Bronx (1995) - Average Rating: 3.45 - Number of ratings: 116\n",
      "17) - Lone Star (1996) - Average Rating: 3.98 - Number of ratings: 119\n",
      "18) - Truth About Cats & Dogs, The (1996) - Average Rating: 3.51 - Number of ratings: 170\n",
      "19) - Broken Arrow (1996) - Average Rating: 3.04 - Number of ratings: 158\n",
      "20) - Happy Gilmore (1996) - Average Rating: 3.24 - Number of ratings: 93\n"
     ]
    }
   ],
   "source": [
    "# user 943\n",
    "reclist1=rec.top_n(UserId=943, n=20)\n",
    "reclist2=rec2.top_n(UserId=943, n=20)\n",
    "reclist3=rec3.top_n(UserId=943, n=20)\n",
    "\n",
    "print_reclist(reclist1)\n",
    "print('Recommendations from ratings-only model:')\n",
    "print(\"------\")\n",
    "print('Recommendations from ratings + genre model:')\n",
    "print_reclist(reclist2)\n",
    "print(\"------\")\n",
    "print('Recommendations from ratings + genre + demographics model:')\n",
    "print_reclist(reclist3)"
   ]
  }
 ],
 "metadata": {
  "anaconda-cloud": {},
  "kernelspec": {
   "display_name": "Python [Root]",
   "language": "python",
   "name": "Python [Root]"
  },
  "language_info": {
   "codemirror_mode": {
    "name": "ipython",
    "version": 3
   },
   "file_extension": ".py",
   "mimetype": "text/x-python",
   "name": "python",
   "nbconvert_exporter": "python",
   "pygments_lexer": "ipython3",
   "version": "3.5.2"
  }
 },
 "nbformat": 4,
 "nbformat_minor": 0
}
