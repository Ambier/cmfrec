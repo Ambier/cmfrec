{
 "cells": [
  {
   "cell_type": "markdown",
   "metadata": {},
   "source": [
    "# Collaborative filtering with side information\n",
    "** *\n",
    "This IPython notebook illustrates the usage of the [cmfrec](https://github.com/david-cortes/cmfrec) Python package for collective matrix factorization using the [MovieLens-100k data](https://grouplens.org/datasets/movielens/100k/), consisting of ratings from users about movies + user demographic information + movie genres, and also using the MovieLens-1M data + the movie tag genome.\n",
    "\n",
    "Collective matrix factorization is a technique for collaborative filtering with additional information about the users and items, based on low-rank joint factorization of different matrices with shared factors – for more details see the paper [_Singh, A. P., & Gordon, G. J. (2008, August). Relational learning via collective matrix factorization. In Proceedings of the 14th ACM SIGKDD international conference on Knowledge discovery and data mining (pp. 650-658). ACM._](http://ra.adm.cs.cmu.edu/anon/usr/ftp/ml2008/CMU-ML-08-109.pdf).\n",
    "\n",
    "** Small note: if the TOC here is not clickable or the math symbols don't show properly, try visualizing this same notebook from nbviewer following [this link](http://nbviewer.jupyter.org/github/david-cortes/cmfrec/blob/master/example/cmfrec_movielens_sideinfo.ipynb). **\n",
    "** *\n",
    "## Sections\n",
    "\n",
    "[1. Basic model - only movie ratings](#p1)\n",
    "* [1.1 Loading the ratings data](#p11)\n",
    "* [1.2 Train and test split](#p12)\n",
    "* [1.3 Fitting and evaluating the model](#p13)\n",
    "\n",
    "[2. Adding movie genres](#p2)\n",
    "* [2.1 Loading the movie genres info](#p21)\n",
    "* [2.2 Fitting and evaluating model with genres](#p22)\n",
    "\n",
    "[3. Adding user demographic info](#p3)\n",
    "* [3.1 Loading the user demographic info](#p31)\n",
    "* [3.2 Getting user region from zip codes](#p32)\n",
    "* [3.2 Fitting and evaluating the full model](#p33)\n",
    "\n",
    "[4. Comparing recommendations](#p4)\n",
    "\n",
    "[5. Larger example - MovieLens-1M and movie tag genome](#p5)\n",
    "* [5.1 Loading the data](#p51)\n",
    "* [5.2 Model with no side info](#p52)\n",
    "* [5.3 Model with movie tags](#p53)\n",
    "\n",
    "** *"
   ]
  },
  {
   "cell_type": "markdown",
   "metadata": {},
   "source": [
    "<a id=\"p1\"></a>\n",
    "## 1. Basic model - only movie ratings\n",
    "** *\n",
    "As a starting point, I'll first try the basic low-rank factorization model using ratings data alone - that is, trying to minimize the following function:\n",
    "\n",
    "$$ Loss\\:(U, V) = \\frac{\\lVert X  - UV^T\\lVert^2\\,}{n} + \\:\\lambda\\: (\\lVert U \\lVert^2 + \\lVert V \\lVert^2) $$\n",
    "\n",
    "Where $U$ and $V$ are lower-dimensional matrices mapping users and items into a latent space - this is the classic model popularized by Funk. The predicted rating from this model for a given user $i$ and movie $j$ can be calculated as $U[i,:]*V[j,:]^T$\n",
    "\n",
    "<a id=\"p11\"></a>\n",
    "### 1.1 Loading the ratings data\n",
    "\n",
    "Here I'll load the MovieLens-100k ratings data, which can be downloaded from the link presented at the beginning:"
   ]
  },
  {
   "cell_type": "code",
   "execution_count": 1,
   "metadata": {
    "collapsed": false
   },
   "outputs": [
    {
     "data": {
      "text/html": [
       "<div>\n",
       "<style scoped>\n",
       "    .dataframe tbody tr th:only-of-type {\n",
       "        vertical-align: middle;\n",
       "    }\n",
       "\n",
       "    .dataframe tbody tr th {\n",
       "        vertical-align: top;\n",
       "    }\n",
       "\n",
       "    .dataframe thead th {\n",
       "        text-align: right;\n",
       "    }\n",
       "</style>\n",
       "<table border=\"1\" class=\"dataframe\">\n",
       "  <thead>\n",
       "    <tr style=\"text-align: right;\">\n",
       "      <th></th>\n",
       "      <th>UserId</th>\n",
       "      <th>ItemId</th>\n",
       "      <th>Rating</th>\n",
       "      <th>Timestamp</th>\n",
       "    </tr>\n",
       "  </thead>\n",
       "  <tbody>\n",
       "    <tr>\n",
       "      <th>0</th>\n",
       "      <td>1</td>\n",
       "      <td>1</td>\n",
       "      <td>5</td>\n",
       "      <td>1997-09-23 01:02:38</td>\n",
       "    </tr>\n",
       "    <tr>\n",
       "      <th>1</th>\n",
       "      <td>1</td>\n",
       "      <td>2</td>\n",
       "      <td>3</td>\n",
       "      <td>1997-10-15 08:26:11</td>\n",
       "    </tr>\n",
       "    <tr>\n",
       "      <th>2</th>\n",
       "      <td>1</td>\n",
       "      <td>3</td>\n",
       "      <td>4</td>\n",
       "      <td>1997-11-03 09:42:40</td>\n",
       "    </tr>\n",
       "    <tr>\n",
       "      <th>3</th>\n",
       "      <td>1</td>\n",
       "      <td>4</td>\n",
       "      <td>3</td>\n",
       "      <td>1997-10-15 08:25:19</td>\n",
       "    </tr>\n",
       "    <tr>\n",
       "      <th>4</th>\n",
       "      <td>1</td>\n",
       "      <td>5</td>\n",
       "      <td>3</td>\n",
       "      <td>1998-03-13 03:15:12</td>\n",
       "    </tr>\n",
       "  </tbody>\n",
       "</table>\n",
       "</div>"
      ],
      "text/plain": [
       "   UserId  ItemId  Rating           Timestamp\n",
       "0       1       1       5 1997-09-23 01:02:38\n",
       "1       1       2       3 1997-10-15 08:26:11\n",
       "2       1       3       4 1997-11-03 09:42:40\n",
       "3       1       4       3 1997-10-15 08:25:19\n",
       "4       1       5       3 1998-03-13 03:15:12"
      ]
     },
     "execution_count": 1,
     "metadata": {},
     "output_type": "execute_result"
    }
   ],
   "source": [
    "import pandas as pd, time\n",
    "from datetime import datetime\n",
    "\n",
    "ratings=pd.read_table('D:\\\\Downloads\\\\movielens\\\\ml-100k\\\\ml-100k\\\\u.data',sep='\\t',engine='python',names=['UserId','ItemId','Rating','Timestamp'])\n",
    "ratings['Timestamp']=ratings.Timestamp.map(lambda x: datetime(*time.localtime(x)[:6])).map(lambda x: pd.to_datetime(x))\n",
    "ratings=ratings.sort_values(['UserId','ItemId']).reset_index(drop=True)\n",
    "ratings.head()"
   ]
  },
  {
   "cell_type": "markdown",
   "metadata": {},
   "source": [
    "<a id=\"p12\"></a>\n",
    "### 1.2 Train and test split\n",
    "\n",
    "In order to evaluate the model, I'll create a train and test set split to use throughout the whole notebook. As this kind of model can only recommend items that were in the training set to users who also were in the training set, I'll make the test set contain only elements that were present in the train set.\n",
    "\n",
    "In order to make this more realistic, I'll make it as a temporal split, i.e. splitting the ratings as those who were submitted before and after a certain time cutoff."
   ]
  },
  {
   "cell_type": "code",
   "execution_count": 2,
   "metadata": {
    "collapsed": false
   },
   "outputs": [
    {
     "name": "stdout",
     "output_type": "stream",
     "text": [
      "(52884, 4)\n",
      "(5835, 4)\n"
     ]
    }
   ],
   "source": [
    "time_cutoff='1998-01-01'\n",
    "train=ratings.loc[ratings.Timestamp<=time_cutoff]\n",
    "test=ratings.loc[ratings.Timestamp>time_cutoff]\n",
    "users_train=set(list(train.UserId))\n",
    "items_train=set(list(train.ItemId))\n",
    "test=test.loc[test.UserId.map(lambda x: x in users_train)]\n",
    "test=test.loc[test.ItemId.map(lambda x: x in items_train)]\n",
    "print(train.shape)\n",
    "print(test.shape)"
   ]
  },
  {
   "cell_type": "markdown",
   "metadata": {},
   "source": [
    "Note that this is a **very** small sample, in a typical setting you would have 3 or 4 orders of magnitude more. Nevertheless, this smallish data is enough to see a difference between models."
   ]
  },
  {
   "cell_type": "code",
   "execution_count": 3,
   "metadata": {
    "collapsed": false
   },
   "outputs": [
    {
     "name": "stdout",
     "output_type": "stream",
     "text": [
      "529\n",
      "1493\n"
     ]
    }
   ],
   "source": [
    "print(len(users_train))\n",
    "print(len(items_train))"
   ]
  },
  {
   "cell_type": "markdown",
   "metadata": {},
   "source": [
    "<a id=\"p13\"></a>\n",
    "### 1.3 Fitting and evaluating the model\n",
    "\n",
    "Traditionally, recommendations have been evaluated by their cross-validated RMSE (root mean squared error), but this is not really a good metric and higher values might not translate into better-liked recommendations. There are many additional metrics that can be used, but to keep this example simple, I’ll evaluate the rating that users would have given to the Top-5 recommendations from this model and compare this to recommendations by item popularity and to random recommendations."
   ]
  },
  {
   "cell_type": "code",
   "execution_count": 4,
   "metadata": {
    "collapsed": false
   },
   "outputs": [
    {
     "name": "stdout",
     "output_type": "stream",
     "text": [
      "INFO:tensorflow:Optimization terminated with:\n",
      "  Message: b'CONVERGENCE: NORM_OF_PROJECTED_GRADIENT_<=_PGTOL'\n",
      "  Objective function value: 3.123490\n",
      "  Number of iterations: 62\n",
      "  Number of functions evaluations: 66\n"
     ]
    }
   ],
   "source": [
    "from cmfrec import CMF\n",
    "import numpy as np\n",
    "\n",
    "# Number of latent factors\n",
    "k=40\n",
    "\n",
    "# Regularization parameter\n",
    "reg=1e-3\n",
    "\n",
    "# Fitting the model\n",
    "rec=CMF(k=k, reg_param=reg)\n",
    "rec.fit(train, random_seed=12345)\n",
    "\n",
    "# Making predictions\n",
    "test['Predicted']=test.apply(lambda x: rec.predict(x['UserId'],x['ItemId']),axis=1)"
   ]
  },
  {
   "cell_type": "markdown",
   "metadata": {},
   "source": [
    "Evaluating Hold-Out RMSE (the hyperparameters had already been somewhat tuned by cross-validation)"
   ]
  },
  {
   "cell_type": "code",
   "execution_count": 5,
   "metadata": {
    "collapsed": false
   },
   "outputs": [
    {
     "data": {
      "text/plain": [
       "1.5022877488223678"
      ]
     },
     "execution_count": 5,
     "metadata": {},
     "output_type": "execute_result"
    }
   ],
   "source": [
    "np.sqrt(np.mean((test.Predicted-test.Rating)**2))"
   ]
  },
  {
   "cell_type": "markdown",
   "metadata": {
    "collapsed": false
   },
   "source": [
    "Basic evaluation of this model:"
   ]
  },
  {
   "cell_type": "code",
   "execution_count": 6,
   "metadata": {
    "collapsed": false
   },
   "outputs": [
    {
     "name": "stdout",
     "output_type": "stream",
     "text": [
      "Averge movie rating: 3.5602718818211856\n",
      "Average rating for top-5 rated by each user: 4.5298621745788665\n",
      "Average rating for bottom-5 rated by each user: 2.246554364471669\n",
      "Average rating for top-5 recommendations of best-rated movies: 4.029096477794793\n",
      "----------------------\n",
      "Average rating for top-5 recommendations from this model: 3.9555895865237365\n",
      "Average rating for bottom-5 (non-)recommendations from this model: 3.2128637059724348\n"
     ]
    }
   ],
   "source": [
    "avg_ratings=train.groupby('ItemId')['Rating'].mean().to_frame().rename(columns={\"Rating\":\"AvgRating\"})\n",
    "test2=pd.merge(test,avg_ratings,left_on='ItemId',right_index=True,how='left')\n",
    "\n",
    "print('Averge movie rating:',test2.groupby('UserId')['Rating'].mean().mean())\n",
    "print('Average rating for top-5 rated by each user:',test2.sort_values(['UserId','Rating'],ascending=False).groupby('UserId')['Rating'].head(5).mean())\n",
    "print('Average rating for bottom-5 rated by each user:',test2.sort_values(['UserId','Rating'],ascending=True).groupby('UserId')['Rating'].head(5).mean())\n",
    "print('Average rating for top-5 recommendations of best-rated movies:',test2.sort_values(['UserId','AvgRating'],ascending=False).groupby('UserId')['Rating'].head(5).mean())\n",
    "print('----------------------')\n",
    "print('Average rating for top-5 recommendations from this model:',test2.sort_values(['UserId','Predicted'],ascending=False).groupby('UserId')['Rating'].head(5).mean())\n",
    "print('Average rating for bottom-5 (non-)recommendations from this model:',test2.sort_values(['UserId','Predicted'],ascending=True).groupby('UserId')['Rating'].head(5).mean())"
   ]
  },
  {
   "cell_type": "markdown",
   "metadata": {},
   "source": [
    "The recommendations from this model are not bad, but the average rating of the Top-5 doesn't manage to beat a most-popular recommendation! This is not surprising given the small size of the ratings data though."
   ]
  },
  {
   "cell_type": "markdown",
   "metadata": {},
   "source": [
    "<a id=\"p2\"></a>\n",
    "## 2. Adding movie genres\n",
    "** *\n",
    "The previous model can be extended by adding some additional information about the movies - this can be done by also factorizing the movie-genre matrix and sharing the item-factor matrix in the factorization of the user-item ratings. Now the model becomes:\n",
    "\n",
    "$$ Loss\\:(U, V, Z) = \\frac{\\lVert X  - UV^T\\lVert^2}{n} + \\frac{\\lVert M-VZ^T \\lVert^2}{m}  + \\:\\lambda\\: (\\lVert U \\lVert^2 + \\lVert V \\lVert^2 + \\lVert Z \\lVert^2) $$\n",
    "\n",
    "Where $U$, $V$ and $Z$ are lower-dimensional matrices mapping users, items and genres into a latent space. The predicted rating from this model for a given user $i$ and movie $j$ is still calculated the same as before: $U[i,:]*V[j,:]^T$. However, we can intuitively think that an item-factor matrix that also represents genres might be better than one that does not, and less likely to overfit, as these factors are not so free.\n",
    "\n",
    "The matrix $V$ however doesn't need to be exactly the same in both terms - we can also add some additional factors that appear in only one factorization, making the follwing formula:\n",
    "\n",
    "$$ Loss\\:(U, V, Z) = \\frac{\\lVert X  - UV_{main}^T\\lVert^2}{n} + \\frac{\\lVert M-V_{sec}Z^T \\lVert^2}{m}  + \\:\\lambda\\: (\\lVert U \\lVert^2 + \\lVert V \\lVert^2 + \\lVert Z \\lVert^2) $$\n",
    "\n",
    "Where $ V_{main} = V_{[1\\:to\\:k_{main} + k_{shared} ,\\:\\cdot]}$ and $V_{sec} = V_{[k_{main} +1 \\:to\\: k_{main} + k_{shared} + k_{sec},\\:\\cdot]}$\n",
    "\n",
    "\n",
    "<a id=\"p21\"></a>\n",
    "### 2.1 Loading the movie genres info\n",
    "\n",
    "The MovieLens-100k data also comes with a file containing movie information that we can use to enhance the model - note that the package requires the item side information to have a column named _ItemId_ when you pass it to the API. If your data doesn't require any reindexing, you can also pass it as a numpy array and set the option reindex to False."
   ]
  },
  {
   "cell_type": "code",
   "execution_count": 7,
   "metadata": {
    "collapsed": false
   },
   "outputs": [
    {
     "data": {
      "text/html": [
       "<div>\n",
       "<style scoped>\n",
       "    .dataframe tbody tr th:only-of-type {\n",
       "        vertical-align: middle;\n",
       "    }\n",
       "\n",
       "    .dataframe tbody tr th {\n",
       "        vertical-align: top;\n",
       "    }\n",
       "\n",
       "    .dataframe thead th {\n",
       "        text-align: right;\n",
       "    }\n",
       "</style>\n",
       "<table border=\"1\" class=\"dataframe\">\n",
       "  <thead>\n",
       "    <tr style=\"text-align: right;\">\n",
       "      <th></th>\n",
       "      <th>ItemId</th>\n",
       "      <th>genre0</th>\n",
       "      <th>genre1</th>\n",
       "      <th>genre2</th>\n",
       "      <th>genre3</th>\n",
       "      <th>genre4</th>\n",
       "      <th>genre5</th>\n",
       "      <th>genre6</th>\n",
       "      <th>genre7</th>\n",
       "      <th>genre8</th>\n",
       "      <th>genre9</th>\n",
       "      <th>genre10</th>\n",
       "      <th>genre11</th>\n",
       "      <th>genre12</th>\n",
       "      <th>genre13</th>\n",
       "      <th>genre14</th>\n",
       "      <th>genre15</th>\n",
       "      <th>genre16</th>\n",
       "      <th>genre17</th>\n",
       "      <th>genre18</th>\n",
       "    </tr>\n",
       "  </thead>\n",
       "  <tbody>\n",
       "    <tr>\n",
       "      <th>0</th>\n",
       "      <td>1</td>\n",
       "      <td>0</td>\n",
       "      <td>0</td>\n",
       "      <td>0</td>\n",
       "      <td>1</td>\n",
       "      <td>1</td>\n",
       "      <td>1</td>\n",
       "      <td>0</td>\n",
       "      <td>0</td>\n",
       "      <td>0</td>\n",
       "      <td>0</td>\n",
       "      <td>0</td>\n",
       "      <td>0</td>\n",
       "      <td>0</td>\n",
       "      <td>0</td>\n",
       "      <td>0</td>\n",
       "      <td>0</td>\n",
       "      <td>0</td>\n",
       "      <td>0</td>\n",
       "      <td>0</td>\n",
       "    </tr>\n",
       "    <tr>\n",
       "      <th>1</th>\n",
       "      <td>2</td>\n",
       "      <td>0</td>\n",
       "      <td>1</td>\n",
       "      <td>1</td>\n",
       "      <td>0</td>\n",
       "      <td>0</td>\n",
       "      <td>0</td>\n",
       "      <td>0</td>\n",
       "      <td>0</td>\n",
       "      <td>0</td>\n",
       "      <td>0</td>\n",
       "      <td>0</td>\n",
       "      <td>0</td>\n",
       "      <td>0</td>\n",
       "      <td>0</td>\n",
       "      <td>0</td>\n",
       "      <td>0</td>\n",
       "      <td>1</td>\n",
       "      <td>0</td>\n",
       "      <td>0</td>\n",
       "    </tr>\n",
       "    <tr>\n",
       "      <th>2</th>\n",
       "      <td>3</td>\n",
       "      <td>0</td>\n",
       "      <td>0</td>\n",
       "      <td>0</td>\n",
       "      <td>0</td>\n",
       "      <td>0</td>\n",
       "      <td>0</td>\n",
       "      <td>0</td>\n",
       "      <td>0</td>\n",
       "      <td>0</td>\n",
       "      <td>0</td>\n",
       "      <td>0</td>\n",
       "      <td>0</td>\n",
       "      <td>0</td>\n",
       "      <td>0</td>\n",
       "      <td>0</td>\n",
       "      <td>0</td>\n",
       "      <td>1</td>\n",
       "      <td>0</td>\n",
       "      <td>0</td>\n",
       "    </tr>\n",
       "    <tr>\n",
       "      <th>3</th>\n",
       "      <td>4</td>\n",
       "      <td>0</td>\n",
       "      <td>1</td>\n",
       "      <td>0</td>\n",
       "      <td>0</td>\n",
       "      <td>0</td>\n",
       "      <td>1</td>\n",
       "      <td>0</td>\n",
       "      <td>0</td>\n",
       "      <td>1</td>\n",
       "      <td>0</td>\n",
       "      <td>0</td>\n",
       "      <td>0</td>\n",
       "      <td>0</td>\n",
       "      <td>0</td>\n",
       "      <td>0</td>\n",
       "      <td>0</td>\n",
       "      <td>0</td>\n",
       "      <td>0</td>\n",
       "      <td>0</td>\n",
       "    </tr>\n",
       "    <tr>\n",
       "      <th>4</th>\n",
       "      <td>5</td>\n",
       "      <td>0</td>\n",
       "      <td>0</td>\n",
       "      <td>0</td>\n",
       "      <td>0</td>\n",
       "      <td>0</td>\n",
       "      <td>0</td>\n",
       "      <td>1</td>\n",
       "      <td>0</td>\n",
       "      <td>1</td>\n",
       "      <td>0</td>\n",
       "      <td>0</td>\n",
       "      <td>0</td>\n",
       "      <td>0</td>\n",
       "      <td>0</td>\n",
       "      <td>0</td>\n",
       "      <td>0</td>\n",
       "      <td>1</td>\n",
       "      <td>0</td>\n",
       "      <td>0</td>\n",
       "    </tr>\n",
       "  </tbody>\n",
       "</table>\n",
       "</div>"
      ],
      "text/plain": [
       "   ItemId  genre0  genre1  genre2  genre3  genre4  genre5  genre6  genre7  \\\n",
       "0       1       0       0       0       1       1       1       0       0   \n",
       "1       2       0       1       1       0       0       0       0       0   \n",
       "2       3       0       0       0       0       0       0       0       0   \n",
       "3       4       0       1       0       0       0       1       0       0   \n",
       "4       5       0       0       0       0       0       0       1       0   \n",
       "\n",
       "   genre8  genre9  genre10  genre11  genre12  genre13  genre14  genre15  \\\n",
       "0       0       0        0        0        0        0        0        0   \n",
       "1       0       0        0        0        0        0        0        0   \n",
       "2       0       0        0        0        0        0        0        0   \n",
       "3       1       0        0        0        0        0        0        0   \n",
       "4       1       0        0        0        0        0        0        0   \n",
       "\n",
       "   genre16  genre17  genre18  \n",
       "0        0        0        0  \n",
       "1        1        0        0  \n",
       "2        1        0        0  \n",
       "3        0        0        0  \n",
       "4        1        0        0  "
      ]
     },
     "execution_count": 7,
     "metadata": {},
     "output_type": "execute_result"
    }
   ],
   "source": [
    "colnames=['ItemId','Title','ReleaseDate','Sep','Link']+['genre'+str(i) for i in range(19)]\n",
    "genres=pd.read_table('D:\\\\Downloads\\\\movielens\\\\ml-100k\\\\ml-100k\\\\u.item',sep=\"|\",engine='python',names=colnames)\n",
    "\n",
    "# will save the movie titles for later\n",
    "movie_id_to_title={i.ItemId:i.Title for i in genres.itertuples()}\n",
    "\n",
    "genres=genres[['ItemId']+['genre'+str(i) for i in range(19)]]\n",
    "genres.head()"
   ]
  },
  {
   "cell_type": "markdown",
   "metadata": {},
   "source": [
    "<a id=\"p22\"></a>\n",
    "### 2.2 Fitting and evaluating model with genres\n",
    "\n",
    "These hypterparameters (number of factors and regularization) were also somewhat tuned beforehand:"
   ]
  },
  {
   "cell_type": "code",
   "execution_count": 8,
   "metadata": {
    "collapsed": false
   },
   "outputs": [
    {
     "name": "stdout",
     "output_type": "stream",
     "text": [
      "INFO:tensorflow:Optimization terminated with:\n",
      "  Message: b'CONVERGENCE: REL_REDUCTION_OF_F_<=_FACTR*EPSMCH'\n",
      "  Objective function value: 4.007323\n",
      "  Number of iterations: 182\n",
      "  Number of functions evaluations: 205\n"
     ]
    }
   ],
   "source": [
    "# Number of latent factors\n",
    "k=30\n",
    "k_main=10\n",
    "k_sec=10\n",
    "\n",
    "# Regularization parameter\n",
    "reg=1e-3\n",
    "\n",
    "# Fitting the model\n",
    "rec2=CMF(k=k, k_main=k_main, k_item=k_sec, w_main=2, reg_param=reg)\n",
    "rec2.fit(train, genres, random_seed=10000)\n",
    "\n",
    "# Making predictions\n",
    "test['Predicted']=test.apply(lambda x: rec2.predict(x['UserId'],x['ItemId']),axis=1)"
   ]
  },
  {
   "cell_type": "markdown",
   "metadata": {},
   "source": [
    "RMSE now:"
   ]
  },
  {
   "cell_type": "code",
   "execution_count": 9,
   "metadata": {
    "collapsed": false
   },
   "outputs": [
    {
     "data": {
      "text/plain": [
       "1.3038670132348265"
      ]
     },
     "execution_count": 9,
     "metadata": {},
     "output_type": "execute_result"
    }
   ],
   "source": [
    "np.sqrt(np.mean((test.Predicted-test.Rating)**2))"
   ]
  },
  {
   "cell_type": "markdown",
   "metadata": {},
   "source": [
    "Same evaluation as before:"
   ]
  },
  {
   "cell_type": "code",
   "execution_count": 10,
   "metadata": {
    "collapsed": false
   },
   "outputs": [
    {
     "name": "stdout",
     "output_type": "stream",
     "text": [
      "Averge movie rating: 3.5602718818211856\n",
      "Average rating for top-5 rated by each user: 4.5298621745788665\n",
      "Average rating for bottom-5 rated by each user: 2.246554364471669\n",
      "Average rating for top-5 recommendations of best-rated movies: 4.029096477794793\n",
      "----------------------\n",
      "Average rating for top-5 recommendations from this model: 4.027565084226646\n",
      "Average rating for bottom-5 (non-)recommendations from this model: 3.119448698315467\n"
     ]
    }
   ],
   "source": [
    "test2=pd.merge(test,avg_ratings,left_on='ItemId',right_index=True,how='left')\n",
    "\n",
    "print('Averge movie rating:',test2.groupby('UserId')['Rating'].mean().mean())\n",
    "print('Average rating for top-5 rated by each user:',test2.sort_values(['UserId','Rating'],ascending=False).groupby('UserId')['Rating'].head(5).mean())\n",
    "print('Average rating for bottom-5 rated by each user:',test2.sort_values(['UserId','Rating'],ascending=True).groupby('UserId')['Rating'].head(5).mean())\n",
    "print('Average rating for top-5 recommendations of best-rated movies:',test2.sort_values(['UserId','AvgRating'],ascending=False).groupby('UserId')['Rating'].head(5).mean())\n",
    "print('----------------------')\n",
    "print('Average rating for top-5 recommendations from this model:',test2.sort_values(['UserId','Predicted'],ascending=False).groupby('UserId')['Rating'].head(5).mean())\n",
    "print('Average rating for bottom-5 (non-)recommendations from this model:',test2.sort_values(['UserId','Predicted'],ascending=True).groupby('UserId')['Rating'].head(5).mean())"
   ]
  },
  {
   "cell_type": "markdown",
   "metadata": {},
   "source": [
    "Now we see a huge improbement in terms of RMSE (root mean squared error), and a bit of an improvement in ratings of Top5 - it's not too large, but it's nevertheless an improvement.\n",
    "\n",
    "Knowing these  generic genres shouldn't be a complete game changer so this is expected."
   ]
  },
  {
   "cell_type": "markdown",
   "metadata": {},
   "source": [
    "<a id=\"p3\"></a>\n",
    "## 2. Adding and user demographic info\n",
    "** *\n",
    "The previous model can be extended to incorporate user information in the same way as it added movie genres:\n",
    "\n",
    "\n",
    "$$ Loss\\:(U, V, Z, P) = \\frac{\\lVert X  - UV^T\\lVert^2}{N_x} + \\frac{\\lVert M-VZ^T \\lVert^2}{N_m} + \\frac{\\lVert Q-UP^T \\lVert^2}{N_q}  + \\:\\lambda\\: (\\lVert U \\lVert^2 + \\lVert V \\lVert^2 + \\lVert Z \\lVert^2 + \\lVert P \\lVert^2) $$\n",
    "\n",
    "Where $Q$ is the user attribute matrix and $P$ is the new attribute-factor matrix - same as before, some of the factors can be shared and some be specific to one factorization.\n",
    "\n",
    "Intuitively, since in a typical setting there are usually more users than items (not in this particular example though), and each user has on average fewer rated movies than movies have users rating them, it would be logical to assume that detailed user information should be more valuable than detailed item information.\n",
    "\n",
    "<a id=\"p31\"></a>\n",
    "### 3.1 Loading the user demographic info\n",
    "\n",
    "The MovieLens-100k data also comes with user demographic information - same as before, the data frame passed to the package API should have a column named _UserId_:"
   ]
  },
  {
   "cell_type": "code",
   "execution_count": 11,
   "metadata": {
    "collapsed": false
   },
   "outputs": [
    {
     "data": {
      "text/html": [
       "<div>\n",
       "<style scoped>\n",
       "    .dataframe tbody tr th:only-of-type {\n",
       "        vertical-align: middle;\n",
       "    }\n",
       "\n",
       "    .dataframe tbody tr th {\n",
       "        vertical-align: top;\n",
       "    }\n",
       "\n",
       "    .dataframe thead th {\n",
       "        text-align: right;\n",
       "    }\n",
       "</style>\n",
       "<table border=\"1\" class=\"dataframe\">\n",
       "  <thead>\n",
       "    <tr style=\"text-align: right;\">\n",
       "      <th></th>\n",
       "      <th>UserId</th>\n",
       "      <th>Age</th>\n",
       "      <th>Gender</th>\n",
       "      <th>Occupation</th>\n",
       "      <th>Zipcode</th>\n",
       "    </tr>\n",
       "  </thead>\n",
       "  <tbody>\n",
       "    <tr>\n",
       "      <th>0</th>\n",
       "      <td>1</td>\n",
       "      <td>24</td>\n",
       "      <td>M</td>\n",
       "      <td>technician</td>\n",
       "      <td>85711</td>\n",
       "    </tr>\n",
       "    <tr>\n",
       "      <th>1</th>\n",
       "      <td>2</td>\n",
       "      <td>53</td>\n",
       "      <td>F</td>\n",
       "      <td>other</td>\n",
       "      <td>94043</td>\n",
       "    </tr>\n",
       "    <tr>\n",
       "      <th>2</th>\n",
       "      <td>3</td>\n",
       "      <td>23</td>\n",
       "      <td>M</td>\n",
       "      <td>writer</td>\n",
       "      <td>32067</td>\n",
       "    </tr>\n",
       "    <tr>\n",
       "      <th>3</th>\n",
       "      <td>4</td>\n",
       "      <td>24</td>\n",
       "      <td>M</td>\n",
       "      <td>technician</td>\n",
       "      <td>43537</td>\n",
       "    </tr>\n",
       "    <tr>\n",
       "      <th>4</th>\n",
       "      <td>5</td>\n",
       "      <td>33</td>\n",
       "      <td>F</td>\n",
       "      <td>other</td>\n",
       "      <td>15213</td>\n",
       "    </tr>\n",
       "  </tbody>\n",
       "</table>\n",
       "</div>"
      ],
      "text/plain": [
       "   UserId  Age Gender  Occupation Zipcode\n",
       "0       1   24      M  technician   85711\n",
       "1       2   53      F       other   94043\n",
       "2       3   23      M      writer   32067\n",
       "3       4   24      M  technician   43537\n",
       "4       5   33      F       other   15213"
      ]
     },
     "execution_count": 11,
     "metadata": {},
     "output_type": "execute_result"
    }
   ],
   "source": [
    "user_info=pd.read_table('D:\\\\Downloads\\\\movielens\\\\ml-100k\\\\ml-100k\\\\u.user',sep=\"|\",engine='python',\n",
    "                        names=['UserId','Age','Gender','Occupation','Zipcode'])\n",
    "user_info.head()"
   ]
  },
  {
   "cell_type": "markdown",
   "metadata": {},
   "source": [
    "This time, unfortunately, not all the information can be used as it is in the file. The zip code can still provide valuable information if we can link it to a broader geographical area. As these are mostly US users, I'll try to link it to US regions here.\n",
    "\n",
    "In order to do so, I’m using a [publicly available table](http://federalgovernmentzipcodes.us/) mapping zip codes to states, [another one](http://www.fonz.net/blog/archives/2008/04/06/csv-of-states-and-state-abbreviations/) mapping state names to their abbreviations, and finally classifying the states into regions according to [usual definitions](https://www.infoplease.com/us/states/sizing-states).\n",
    "\n",
    "<a id=\"p32\"></a>\n",
    "### 3.2 Getting user region from zip codes"
   ]
  },
  {
   "cell_type": "code",
   "execution_count": 12,
   "metadata": {
    "collapsed": false
   },
   "outputs": [
    {
     "name": "stderr",
     "output_type": "stream",
     "text": [
      "C:\\Users\\david\\Anaconda3\\lib\\site-packages\\IPython\\core\\interactiveshell.py:2723: DtypeWarning: Columns (11) have mixed types. Specify dtype option on import or set low_memory=False.\n",
      "  interactivity=interactivity, compiler=compiler, result=result)\n"
     ]
    },
    {
     "data": {
      "text/html": [
       "<div>\n",
       "<style scoped>\n",
       "    .dataframe tbody tr th:only-of-type {\n",
       "        vertical-align: middle;\n",
       "    }\n",
       "\n",
       "    .dataframe tbody tr th {\n",
       "        vertical-align: top;\n",
       "    }\n",
       "\n",
       "    .dataframe thead th {\n",
       "        text-align: right;\n",
       "    }\n",
       "</style>\n",
       "<table border=\"1\" class=\"dataframe\">\n",
       "  <thead>\n",
       "    <tr style=\"text-align: right;\">\n",
       "      <th></th>\n",
       "      <th>UserId</th>\n",
       "      <th>Age</th>\n",
       "      <th>Gender_F</th>\n",
       "      <th>Gender_M</th>\n",
       "      <th>Occupation_administrator</th>\n",
       "      <th>Occupation_artist</th>\n",
       "      <th>Occupation_doctor</th>\n",
       "      <th>Occupation_educator</th>\n",
       "      <th>Occupation_engineer</th>\n",
       "      <th>Occupation_entertainment</th>\n",
       "      <th>...</th>\n",
       "      <th>Occupation_technician</th>\n",
       "      <th>Occupation_writer</th>\n",
       "      <th>Region_Middle Atlantic</th>\n",
       "      <th>Region_Midwest</th>\n",
       "      <th>Region_New England</th>\n",
       "      <th>Region_South</th>\n",
       "      <th>Region_Southwest</th>\n",
       "      <th>Region_UnknownOrNonUS</th>\n",
       "      <th>Region_UsOther</th>\n",
       "      <th>Region_West</th>\n",
       "    </tr>\n",
       "  </thead>\n",
       "  <tbody>\n",
       "    <tr>\n",
       "      <th>0</th>\n",
       "      <td>1</td>\n",
       "      <td>24</td>\n",
       "      <td>0</td>\n",
       "      <td>1</td>\n",
       "      <td>0</td>\n",
       "      <td>0</td>\n",
       "      <td>0</td>\n",
       "      <td>0</td>\n",
       "      <td>0</td>\n",
       "      <td>0</td>\n",
       "      <td>...</td>\n",
       "      <td>1</td>\n",
       "      <td>0</td>\n",
       "      <td>0</td>\n",
       "      <td>0</td>\n",
       "      <td>0</td>\n",
       "      <td>0</td>\n",
       "      <td>1</td>\n",
       "      <td>0</td>\n",
       "      <td>0</td>\n",
       "      <td>0</td>\n",
       "    </tr>\n",
       "    <tr>\n",
       "      <th>1</th>\n",
       "      <td>2</td>\n",
       "      <td>53</td>\n",
       "      <td>1</td>\n",
       "      <td>0</td>\n",
       "      <td>0</td>\n",
       "      <td>0</td>\n",
       "      <td>0</td>\n",
       "      <td>0</td>\n",
       "      <td>0</td>\n",
       "      <td>0</td>\n",
       "      <td>...</td>\n",
       "      <td>0</td>\n",
       "      <td>0</td>\n",
       "      <td>0</td>\n",
       "      <td>0</td>\n",
       "      <td>0</td>\n",
       "      <td>0</td>\n",
       "      <td>0</td>\n",
       "      <td>0</td>\n",
       "      <td>0</td>\n",
       "      <td>1</td>\n",
       "    </tr>\n",
       "    <tr>\n",
       "      <th>2</th>\n",
       "      <td>3</td>\n",
       "      <td>23</td>\n",
       "      <td>0</td>\n",
       "      <td>1</td>\n",
       "      <td>0</td>\n",
       "      <td>0</td>\n",
       "      <td>0</td>\n",
       "      <td>0</td>\n",
       "      <td>0</td>\n",
       "      <td>0</td>\n",
       "      <td>...</td>\n",
       "      <td>0</td>\n",
       "      <td>1</td>\n",
       "      <td>0</td>\n",
       "      <td>0</td>\n",
       "      <td>0</td>\n",
       "      <td>1</td>\n",
       "      <td>0</td>\n",
       "      <td>0</td>\n",
       "      <td>0</td>\n",
       "      <td>0</td>\n",
       "    </tr>\n",
       "    <tr>\n",
       "      <th>3</th>\n",
       "      <td>4</td>\n",
       "      <td>24</td>\n",
       "      <td>0</td>\n",
       "      <td>1</td>\n",
       "      <td>0</td>\n",
       "      <td>0</td>\n",
       "      <td>0</td>\n",
       "      <td>0</td>\n",
       "      <td>0</td>\n",
       "      <td>0</td>\n",
       "      <td>...</td>\n",
       "      <td>1</td>\n",
       "      <td>0</td>\n",
       "      <td>0</td>\n",
       "      <td>1</td>\n",
       "      <td>0</td>\n",
       "      <td>0</td>\n",
       "      <td>0</td>\n",
       "      <td>0</td>\n",
       "      <td>0</td>\n",
       "      <td>0</td>\n",
       "    </tr>\n",
       "    <tr>\n",
       "      <th>4</th>\n",
       "      <td>5</td>\n",
       "      <td>33</td>\n",
       "      <td>1</td>\n",
       "      <td>0</td>\n",
       "      <td>0</td>\n",
       "      <td>0</td>\n",
       "      <td>0</td>\n",
       "      <td>0</td>\n",
       "      <td>0</td>\n",
       "      <td>0</td>\n",
       "      <td>...</td>\n",
       "      <td>0</td>\n",
       "      <td>0</td>\n",
       "      <td>1</td>\n",
       "      <td>0</td>\n",
       "      <td>0</td>\n",
       "      <td>0</td>\n",
       "      <td>0</td>\n",
       "      <td>0</td>\n",
       "      <td>0</td>\n",
       "      <td>0</td>\n",
       "    </tr>\n",
       "  </tbody>\n",
       "</table>\n",
       "<p>5 rows × 33 columns</p>\n",
       "</div>"
      ],
      "text/plain": [
       "   UserId  Age  Gender_F  Gender_M  Occupation_administrator  \\\n",
       "0       1   24         0         1                         0   \n",
       "1       2   53         1         0                         0   \n",
       "2       3   23         0         1                         0   \n",
       "3       4   24         0         1                         0   \n",
       "4       5   33         1         0                         0   \n",
       "\n",
       "   Occupation_artist  Occupation_doctor  Occupation_educator  \\\n",
       "0                  0                  0                    0   \n",
       "1                  0                  0                    0   \n",
       "2                  0                  0                    0   \n",
       "3                  0                  0                    0   \n",
       "4                  0                  0                    0   \n",
       "\n",
       "   Occupation_engineer  Occupation_entertainment     ...       \\\n",
       "0                    0                         0     ...        \n",
       "1                    0                         0     ...        \n",
       "2                    0                         0     ...        \n",
       "3                    0                         0     ...        \n",
       "4                    0                         0     ...        \n",
       "\n",
       "   Occupation_technician  Occupation_writer  Region_Middle Atlantic  \\\n",
       "0                      1                  0                       0   \n",
       "1                      0                  0                       0   \n",
       "2                      0                  1                       0   \n",
       "3                      1                  0                       0   \n",
       "4                      0                  0                       1   \n",
       "\n",
       "   Region_Midwest  Region_New England  Region_South  Region_Southwest  \\\n",
       "0               0                   0             0                 1   \n",
       "1               0                   0             0                 0   \n",
       "2               0                   0             1                 0   \n",
       "3               1                   0             0                 0   \n",
       "4               0                   0             0                 0   \n",
       "\n",
       "   Region_UnknownOrNonUS  Region_UsOther  Region_West  \n",
       "0                      0               0            0  \n",
       "1                      0               0            1  \n",
       "2                      0               0            0  \n",
       "3                      0               0            0  \n",
       "4                      0               0            0  \n",
       "\n",
       "[5 rows x 33 columns]"
      ]
     },
     "execution_count": 12,
     "metadata": {},
     "output_type": "execute_result"
    }
   ],
   "source": [
    "import re\n",
    "\n",
    "zipcode_abbs=pd.read_csv(\"D:\\\\Downloads\\\\movielens\\\\zips\\\\states.csv\")\n",
    "zipcode_abbs_dct={z.State:z.Abbreviation for z in zipcode_abbs.itertuples()}\n",
    "us_regs_table=[\n",
    "    ('New England', 'Connecticut, Maine, Massachusetts, New Hampshire, Rhode Island, Vermont'),\n",
    "    ('Middle Atlantic', 'Delaware, Maryland, New Jersey, New York, Pennsylvania'),\n",
    "    ('South', 'Alabama, Arkansas, Florida, Georgia, Kentucky, Louisiana, Mississippi, Missouri, North Carolina, South Carolina, Tennessee, Virginia, West Virginia'),\n",
    "    ('Midwest', 'Illinois, Indiana, Iowa, Kansas, Michigan, Minnesota, Nebraska, North Dakota, Ohio, South Dakota, Wisconsin'),\n",
    "    ('Southwest', 'Arizona, New Mexico, Oklahoma, Texas'),\n",
    "    ('West', 'Alaska, California, Colorado, Hawaii, Idaho, Montana, Nevada, Oregon, Utah, Washington, Wyoming')\n",
    "    ]\n",
    "us_regs_table=[(x[0],[i.strip() for i in x[1].split(\",\")]) for x in us_regs_table]\n",
    "us_regs_dct=dict()\n",
    "for r in us_regs_table:\n",
    "    for s in r[1]:\n",
    "        us_regs_dct[zipcode_abbs_dct[s]]=r[0]\n",
    "        \n",
    "zipcode_info=pd.read_csv(\"D:\\\\Downloads\\\\movielens\\\\free-zipcode-database.csv\")\n",
    "zipcode_info=zipcode_info.groupby('Zipcode').first().reset_index()\n",
    "zipcode_info['State'].loc[zipcode_info.Country!=\"US\"]='UnknownOrNonUS'\n",
    "zipcode_info['Region']=zipcode_info['State'].copy()\n",
    "zipcode_info['Region'].loc[zipcode_info.Country==\"US\"]=zipcode_info.Region.loc[zipcode_info.Country==\"US\"].map(lambda x: us_regs_dct[x] if x in us_regs_dct else 'UsOther')\n",
    "zipcode_info=zipcode_info[['Zipcode', 'Region']]\n",
    "zipcode_info.head()\n",
    "\n",
    "def process_zip(zp):\n",
    "    try:\n",
    "        zp=np.int(zp)\n",
    "        return zp\n",
    "    except:\n",
    "        return np.nan\n",
    "\n",
    "user_info[\"Zipcode\"]=user_info.Zipcode.map(process_zip)\n",
    "user_info=pd.merge(user_info,zipcode_info,on='Zipcode',how='left')\n",
    "user_info['Region']=user_info.Region.fillna('UnknownOrNonUS')\n",
    "\n",
    "user_info=pd.get_dummies(user_info[['UserId','Age','Gender','Occupation','Region']])\n",
    "users_w_side_info=set(list(user_info.UserId))\n",
    "ratings=ratings.loc[ratings.UserId.map(lambda x: x in users_w_side_info)]\n",
    "\n",
    "user_info.head()"
   ]
  },
  {
   "cell_type": "markdown",
   "metadata": {},
   "source": [
    "<a id=\"p33\"></a>\n",
    "### 3.3 Fitting and evaluating the full model\n",
    "\n",
    "Adding explicit information gives the latent factors a more solid base, so fewer of them are needed the more side info there is available."
   ]
  },
  {
   "cell_type": "code",
   "execution_count": 13,
   "metadata": {
    "collapsed": false
   },
   "outputs": [
    {
     "name": "stdout",
     "output_type": "stream",
     "text": [
      "INFO:tensorflow:Optimization terminated with:\n",
      "  Message: b'CONVERGENCE: REL_REDUCTION_OF_F_<=_FACTR*EPSMCH'\n",
      "  Objective function value: 5.232346\n",
      "  Number of iterations: 455\n",
      "  Number of functions evaluations: 491\n"
     ]
    }
   ],
   "source": [
    "# Number of latent factors\n",
    "k=30\n",
    "k_main=5\n",
    "k_genre=5\n",
    "k_demo=5\n",
    "\n",
    "# Regularization parameter\n",
    "reg=1e-3\n",
    "\n",
    "# This time I'll weight the ratings matrix higher\n",
    "w_main=4\n",
    "\n",
    "# Fitting the model\n",
    "# rec3=CMF(k=k, k_main=k_main, k_item=k_genre, k_user=k_demo, w_main=w_main, reg_param=reg)\n",
    "rec3=CMF(k=k, k_main=k_main, k_item=k_genre, k_user=k_demo, reg_param=reg, w_main=w_main)\n",
    "rec3.fit(train, genres, user_info, random_seed=32545)\n",
    "\n",
    "# Making predictions\n",
    "test['Predicted']=test.apply(lambda x: rec3.predict(x['UserId'],x['ItemId']),axis=1)"
   ]
  },
  {
   "cell_type": "markdown",
   "metadata": {},
   "source": [
    "Same metrics as before:"
   ]
  },
  {
   "cell_type": "code",
   "execution_count": 14,
   "metadata": {
    "collapsed": false
   },
   "outputs": [
    {
     "data": {
      "text/plain": [
       "1.1927529497583915"
      ]
     },
     "execution_count": 14,
     "metadata": {},
     "output_type": "execute_result"
    }
   ],
   "source": [
    "np.sqrt(np.mean((test.Predicted-test.Rating)**2))"
   ]
  },
  {
   "cell_type": "code",
   "execution_count": 15,
   "metadata": {
    "collapsed": false
   },
   "outputs": [
    {
     "name": "stdout",
     "output_type": "stream",
     "text": [
      "Averge movie rating: 3.5602718818211856\n",
      "Average rating for top-5 rated by each user: 4.5298621745788665\n",
      "Average rating for bottom-5 rated by each user: 2.246554364471669\n",
      "Average rating for top-5 recommendations of best-rated movies: 4.029096477794793\n",
      "----------------------\n",
      "Average rating for top-5 recommendations from this model: 3.992343032159265\n",
      "Average rating for bottom-5 (non-)recommendations from this model: 3.104134762633997\n"
     ]
    }
   ],
   "source": [
    "test2=pd.merge(test,avg_ratings,left_on='ItemId',right_index=True,how='left')\n",
    "\n",
    "print('Averge movie rating:',test2.groupby('UserId')['Rating'].mean().mean())\n",
    "print('Average rating for top-5 rated by each user:',test2.sort_values(['UserId','Rating'],ascending=False).groupby('UserId')['Rating'].head(5).mean())\n",
    "print('Average rating for bottom-5 rated by each user:',test2.sort_values(['UserId','Rating'],ascending=True).groupby('UserId')['Rating'].head(5).mean())\n",
    "print('Average rating for top-5 recommendations of best-rated movies:',test2.sort_values(['UserId','AvgRating'],ascending=False).groupby('UserId')['Rating'].head(5).mean())\n",
    "print('----------------------')\n",
    "print('Average rating for top-5 recommendations from this model:',test2.sort_values(['UserId','Predicted'],ascending=False).groupby('UserId')['Rating'].head(5).mean())\n",
    "print('Average rating for bottom-5 (non-)recommendations from this model:',test2.sort_values(['UserId','Predicted'],ascending=True).groupby('UserId')['Rating'].head(5).mean())"
   ]
  },
  {
   "cell_type": "markdown",
   "metadata": {},
   "source": [
    "This time the improvement in RMSE how is also huge after adding just the most basic demographic information, although the Top-5 recommendations don't seem to have improved (nonetheless, this sample is rather small, and perhaps not very representative as it spans a whole year of ratings of old movies)."
   ]
  },
  {
   "cell_type": "markdown",
   "metadata": {},
   "source": [
    "<a id=\"p4\"></a>\n",
    "## 4. Comparing recommendations\n",
    "** *\n",
    "\n",
    "Now let's see what are of each these models are recommending to a randomly picked user, along with the overall item popularity:"
   ]
  },
  {
   "cell_type": "code",
   "execution_count": 16,
   "metadata": {
    "collapsed": false
   },
   "outputs": [],
   "source": [
    "# aggregate statistics\n",
    "avg_movie_rating=train.groupby('ItemId')['Rating'].mean()\n",
    "num_ratings_per_movie=train.groupby('ItemId')['Rating'].agg(lambda x: len(tuple(x)))\n",
    "\n",
    "# function to print recommended lists more nicely\n",
    "def print_reclist(reclist):\n",
    "    list_w_info=[str(m+1)+\") - \"+movie_id_to_title[reclist[m]]+\\\n",
    "        \" - Average Rating: \"+str(np.round(avg_movie_rating[reclist[m]],2))+\\\n",
    "        \" - Number of ratings: \"+str(num_ratings_per_movie[reclist[m]]) for m in range(len(reclist))]\n",
    "    print(\"\\n\".join(list_w_info))"
   ]
  },
  {
   "cell_type": "code",
   "execution_count": 17,
   "metadata": {
    "collapsed": false
   },
   "outputs": [
    {
     "name": "stdout",
     "output_type": "stream",
     "text": [
      "1) - Schindler's List (1993) - Average Rating: 4.53 - Number of ratings: 167\n",
      "2) - Full Monty, The (1997) - Average Rating: 4.06 - Number of ratings: 135\n",
      "3) - Boot, Das (1981) - Average Rating: 4.22 - Number of ratings: 114\n",
      "4) - Contact (1997) - Average Rating: 3.91 - Number of ratings: 245\n",
      "5) - L.A. Confidential (1997) - Average Rating: 4.08 - Number of ratings: 128\n",
      "6) - Sense and Sensibility (1995) - Average Rating: 4.18 - Number of ratings: 160\n",
      "7) - Empire Strikes Back, The (1980) - Average Rating: 4.24 - Number of ratings: 201\n",
      "8) - Air Force One (1997) - Average Rating: 3.71 - Number of ratings: 189\n",
      "9) - English Patient, The (1996) - Average Rating: 3.76 - Number of ratings: 257\n",
      "10) - Toy Story (1995) - Average Rating: 3.92 - Number of ratings: 267\n",
      "11) - Braveheart (1995) - Average Rating: 4.22 - Number of ratings: 164\n",
      "12) - Close Shave, A (1995) - Average Rating: 4.54 - Number of ratings: 68\n",
      "13) - Casablanca (1942) - Average Rating: 4.46 - Number of ratings: 137\n",
      "14) - Silence of the Lambs, The (1991) - Average Rating: 4.36 - Number of ratings: 225\n",
      "15) - Secrets & Lies (1996) - Average Rating: 4.23 - Number of ratings: 93\n",
      "16) - Usual Suspects, The (1995) - Average Rating: 4.37 - Number of ratings: 160\n",
      "17) - Mr. Holland's Opus (1995) - Average Rating: 3.86 - Number of ratings: 185\n",
      "18) - Princess Bride, The (1987) - Average Rating: 4.23 - Number of ratings: 184\n",
      "19) - Wrong Trousers, The (1993) - Average Rating: 4.59 - Number of ratings: 68\n",
      "20) - Men in Black (1997) - Average Rating: 3.79 - Number of ratings: 184\n",
      "Recommendations from ratings-only model:\n",
      "------\n",
      "Recommendations from ratings + genre model:\n",
      "1) - Schindler's List (1993) - Average Rating: 4.53 - Number of ratings: 167\n",
      "2) - Air Force One (1997) - Average Rating: 3.71 - Number of ratings: 189\n",
      "3) - Boot, Das (1981) - Average Rating: 4.22 - Number of ratings: 114\n",
      "4) - Braveheart (1995) - Average Rating: 4.22 - Number of ratings: 164\n",
      "5) - Sense and Sensibility (1995) - Average Rating: 4.18 - Number of ratings: 160\n",
      "6) - Contact (1997) - Average Rating: 3.91 - Number of ratings: 245\n",
      "7) - L.A. Confidential (1997) - Average Rating: 4.08 - Number of ratings: 128\n",
      "8) - Full Monty, The (1997) - Average Rating: 4.06 - Number of ratings: 135\n",
      "9) - Toy Story (1995) - Average Rating: 3.92 - Number of ratings: 267\n",
      "10) - Pulp Fiction (1994) - Average Rating: 4.16 - Number of ratings: 225\n",
      "11) - Jerry Maguire (1996) - Average Rating: 3.69 - Number of ratings: 238\n",
      "12) - Usual Suspects, The (1995) - Average Rating: 4.37 - Number of ratings: 160\n",
      "13) - Game, The (1997) - Average Rating: 3.61 - Number of ratings: 102\n",
      "14) - Leaving Las Vegas (1995) - Average Rating: 3.76 - Number of ratings: 182\n",
      "15) - Face/Off (1997) - Average Rating: 3.86 - Number of ratings: 103\n",
      "16) - Scream (1996) - Average Rating: 3.47 - Number of ratings: 239\n",
      "17) - Secrets & Lies (1996) - Average Rating: 4.23 - Number of ratings: 93\n",
      "18) - Men in Black (1997) - Average Rating: 3.79 - Number of ratings: 184\n",
      "19) - Wrong Trousers, The (1993) - Average Rating: 4.59 - Number of ratings: 68\n",
      "20) - Indiana Jones and the Last Crusade (1989) - Average Rating: 3.96 - Number of ratings: 171\n",
      "------\n",
      "Recommendations from ratings + genre + demographics model:\n",
      "1) - Air Force One (1997) - Average Rating: 3.71 - Number of ratings: 189\n",
      "2) - Schindler's List (1993) - Average Rating: 4.53 - Number of ratings: 167\n",
      "3) - Braveheart (1995) - Average Rating: 4.22 - Number of ratings: 164\n",
      "4) - Blues Brothers, The (1980) - Average Rating: 3.88 - Number of ratings: 138\n",
      "5) - Sense and Sensibility (1995) - Average Rating: 4.18 - Number of ratings: 160\n",
      "6) - Game, The (1997) - Average Rating: 3.61 - Number of ratings: 102\n",
      "7) - Scream (1996) - Average Rating: 3.47 - Number of ratings: 239\n",
      "8) - Pulp Fiction (1994) - Average Rating: 4.16 - Number of ratings: 225\n",
      "9) - Usual Suspects, The (1995) - Average Rating: 4.37 - Number of ratings: 160\n",
      "10) - Boot, Das (1981) - Average Rating: 4.22 - Number of ratings: 114\n",
      "11) - Princess Bride, The (1987) - Average Rating: 4.23 - Number of ratings: 184\n",
      "12) - Emma (1996) - Average Rating: 3.86 - Number of ratings: 103\n",
      "13) - Indiana Jones and the Last Crusade (1989) - Average Rating: 3.96 - Number of ratings: 171\n",
      "14) - Face/Off (1997) - Average Rating: 3.86 - Number of ratings: 103\n",
      "15) - Forrest Gump (1994) - Average Rating: 3.96 - Number of ratings: 183\n",
      "16) - Jerry Maguire (1996) - Average Rating: 3.69 - Number of ratings: 238\n",
      "17) - Leaving Las Vegas (1995) - Average Rating: 3.76 - Number of ratings: 182\n",
      "18) - Contact (1997) - Average Rating: 3.91 - Number of ratings: 245\n",
      "19) - Seven (Se7en) (1995) - Average Rating: 3.98 - Number of ratings: 127\n",
      "20) - Bound (1996) - Average Rating: 3.83 - Number of ratings: 81\n"
     ]
    }
   ],
   "source": [
    "# user 943\n",
    "reclist1=rec.top_n(UserId=943, n=20)\n",
    "reclist2=rec2.top_n(UserId=943, n=20)\n",
    "reclist3=rec3.top_n(UserId=943, n=20)\n",
    "\n",
    "print_reclist(reclist1)\n",
    "print('Recommendations from ratings-only model:')\n",
    "print(\"------\")\n",
    "print('Recommendations from ratings + genre model:')\n",
    "print_reclist(reclist2)\n",
    "print(\"------\")\n",
    "print('Recommendations from ratings + genre + demographics model:')\n",
    "print_reclist(reclist3)"
   ]
  },
  {
   "cell_type": "markdown",
   "metadata": {},
   "source": [
    "<a id=\"p5\"></a>\n",
    "## 5. Larger example - MovieLens-1M and movie tag genome\n",
    "** *\n",
    "\n",
    "The example above was rather small, comprising only 50k ratings evaluated on antoher 5k ratings, and not very informative side information about items and/or users. Fortunately, the latest MovieLens datasets also come with the so-called _tag genomes_ as described in [Vig, J., Sen, S., & Riedl, J. (2012). The tag genome: Encoding community knowledge to support novel interaction. ACM Transactions on Interactive Intelligent Systems (TiiS), 2(3), 13.](http://dl.acm.org/citation.cfm?id=2362395).\n",
    "\n",
    "This time I'll fit a model to the [MovieLens-1M](https://grouplens.org/datasets/movielens/1m/) dataset using these very detailed movie tags as side information + the same user information. The MovieLens-1M itself doesn't come with the tag genome data, but they can be obtained by matching the movies by title to newer [MovieLens-20M](https://grouplens.org/datasets/movielens/20m/) release. Unfortunately, this time the age comes only as a categorical feature rather than numeric as was in the MovieLens-100k, and further releases such as the MovieLens-20M no longer include user demographic information.\n",
    "\n",
    "<a id=\"p51\"></a>\n",
    "## 5.1 Loading the data\n"
   ]
  },
  {
   "cell_type": "code",
   "execution_count": 18,
   "metadata": {
    "collapsed": false
   },
   "outputs": [
    {
     "data": {
      "text/html": [
       "<div>\n",
       "<style scoped>\n",
       "    .dataframe tbody tr th:only-of-type {\n",
       "        vertical-align: middle;\n",
       "    }\n",
       "\n",
       "    .dataframe tbody tr th {\n",
       "        vertical-align: top;\n",
       "    }\n",
       "\n",
       "    .dataframe thead th {\n",
       "        text-align: right;\n",
       "    }\n",
       "</style>\n",
       "<table border=\"1\" class=\"dataframe\">\n",
       "  <thead>\n",
       "    <tr style=\"text-align: right;\">\n",
       "      <th></th>\n",
       "      <th>UserId</th>\n",
       "      <th>ItemId</th>\n",
       "      <th>Rating</th>\n",
       "      <th>Timestamp</th>\n",
       "    </tr>\n",
       "  </thead>\n",
       "  <tbody>\n",
       "    <tr>\n",
       "      <th>0</th>\n",
       "      <td>1</td>\n",
       "      <td>1</td>\n",
       "      <td>5</td>\n",
       "      <td>2001-01-07 01:37:48</td>\n",
       "    </tr>\n",
       "    <tr>\n",
       "      <th>1</th>\n",
       "      <td>1</td>\n",
       "      <td>48</td>\n",
       "      <td>5</td>\n",
       "      <td>2001-01-07 01:39:11</td>\n",
       "    </tr>\n",
       "    <tr>\n",
       "      <th>2</th>\n",
       "      <td>1</td>\n",
       "      <td>150</td>\n",
       "      <td>5</td>\n",
       "      <td>2001-01-01 00:29:37</td>\n",
       "    </tr>\n",
       "    <tr>\n",
       "      <th>3</th>\n",
       "      <td>1</td>\n",
       "      <td>260</td>\n",
       "      <td>4</td>\n",
       "      <td>2001-01-01 00:12:40</td>\n",
       "    </tr>\n",
       "    <tr>\n",
       "      <th>4</th>\n",
       "      <td>1</td>\n",
       "      <td>527</td>\n",
       "      <td>5</td>\n",
       "      <td>2001-01-07 01:36:35</td>\n",
       "    </tr>\n",
       "  </tbody>\n",
       "</table>\n",
       "</div>"
      ],
      "text/plain": [
       "   UserId  ItemId  Rating           Timestamp\n",
       "0       1       1       5 2001-01-07 01:37:48\n",
       "1       1      48       5 2001-01-07 01:39:11\n",
       "2       1     150       5 2001-01-01 00:29:37\n",
       "3       1     260       4 2001-01-01 00:12:40\n",
       "4       1     527       5 2001-01-07 01:36:35"
      ]
     },
     "execution_count": 18,
     "metadata": {},
     "output_type": "execute_result"
    }
   ],
   "source": [
    "import numpy as np, pandas as pd, time, re\n",
    "from datetime import datetime\n",
    "from cmfrec import CMF\n",
    "\n",
    "ratings=pd.read_table('D:\\\\Downloads\\\\movielens\\\\ml-1m\\\\ml-1m\\\\ratings.dat',sep='::',engine='python',names=['UserId','ItemId','Rating','Timestamp'])\n",
    "ratings['Timestamp']=ratings.Timestamp.map(lambda x: datetime(*time.localtime(x)[:6])).map(lambda x: pd.to_datetime(x))\n",
    "ratings=ratings.sort_values(['UserId','ItemId']).reset_index(drop=True)\n",
    "ratings.head()"
   ]
  },
  {
   "cell_type": "markdown",
   "metadata": {},
   "source": [
    "Temporal train-test split - this time it's not necessry to discard so much data for the split:"
   ]
  },
  {
   "cell_type": "code",
   "execution_count": 19,
   "metadata": {
    "collapsed": false
   },
   "outputs": [
    {
     "name": "stdout",
     "output_type": "stream",
     "text": [
      "(972814, 4)\n",
      "(27103, 4)\n"
     ]
    }
   ],
   "source": [
    "time_cutoff='2002-01-01'\n",
    "train=ratings.loc[ratings.Timestamp<=time_cutoff]\n",
    "test=ratings.loc[ratings.Timestamp>time_cutoff]\n",
    "users_train=set(list(train.UserId))\n",
    "items_train=set(list(train.ItemId))\n",
    "test=test.loc[test.UserId.map(lambda x: x in users_train)]\n",
    "test=test.loc[test.ItemId.map(lambda x: x in items_train)]\n",
    "print(train.shape)\n",
    "print(test.shape)"
   ]
  },
  {
   "cell_type": "markdown",
   "metadata": {},
   "source": [
    "Movie tags taken from a different dataset and joined by title:"
   ]
  },
  {
   "cell_type": "code",
   "execution_count": 20,
   "metadata": {
    "collapsed": false
   },
   "outputs": [
    {
     "data": {
      "text/html": [
       "<div>\n",
       "<style scoped>\n",
       "    .dataframe tbody tr th:only-of-type {\n",
       "        vertical-align: middle;\n",
       "    }\n",
       "\n",
       "    .dataframe tbody tr th {\n",
       "        vertical-align: top;\n",
       "    }\n",
       "\n",
       "    .dataframe thead th {\n",
       "        text-align: right;\n",
       "    }\n",
       "</style>\n",
       "<table border=\"1\" class=\"dataframe\">\n",
       "  <thead>\n",
       "    <tr style=\"text-align: right;\">\n",
       "      <th></th>\n",
       "      <th>ItemId</th>\n",
       "      <th>tag1</th>\n",
       "      <th>tag2</th>\n",
       "      <th>tag3</th>\n",
       "      <th>tag4</th>\n",
       "      <th>tag5</th>\n",
       "      <th>tag6</th>\n",
       "      <th>tag7</th>\n",
       "      <th>tag8</th>\n",
       "      <th>tag9</th>\n",
       "      <th>...</th>\n",
       "      <th>tag1119</th>\n",
       "      <th>tag1120</th>\n",
       "      <th>tag1121</th>\n",
       "      <th>tag1122</th>\n",
       "      <th>tag1123</th>\n",
       "      <th>tag1124</th>\n",
       "      <th>tag1125</th>\n",
       "      <th>tag1126</th>\n",
       "      <th>tag1127</th>\n",
       "      <th>tag1128</th>\n",
       "    </tr>\n",
       "  </thead>\n",
       "  <tbody>\n",
       "    <tr>\n",
       "      <th>0</th>\n",
       "      <td>1</td>\n",
       "      <td>0.02400</td>\n",
       "      <td>0.02400</td>\n",
       "      <td>0.05475</td>\n",
       "      <td>0.09200</td>\n",
       "      <td>0.14825</td>\n",
       "      <td>0.21500</td>\n",
       "      <td>0.06625</td>\n",
       "      <td>0.27025</td>\n",
       "      <td>0.26050</td>\n",
       "      <td>...</td>\n",
       "      <td>0.03650</td>\n",
       "      <td>0.01800</td>\n",
       "      <td>0.04525</td>\n",
       "      <td>0.03275</td>\n",
       "      <td>0.12450</td>\n",
       "      <td>0.04175</td>\n",
       "      <td>0.02000</td>\n",
       "      <td>0.03475</td>\n",
       "      <td>0.08350</td>\n",
       "      <td>0.02525</td>\n",
       "    </tr>\n",
       "    <tr>\n",
       "      <th>1</th>\n",
       "      <td>2</td>\n",
       "      <td>0.03800</td>\n",
       "      <td>0.04175</td>\n",
       "      <td>0.03700</td>\n",
       "      <td>0.04875</td>\n",
       "      <td>0.11075</td>\n",
       "      <td>0.07325</td>\n",
       "      <td>0.04950</td>\n",
       "      <td>0.10775</td>\n",
       "      <td>0.10200</td>\n",
       "      <td>...</td>\n",
       "      <td>0.03900</td>\n",
       "      <td>0.01925</td>\n",
       "      <td>0.01725</td>\n",
       "      <td>0.02425</td>\n",
       "      <td>0.13425</td>\n",
       "      <td>0.02225</td>\n",
       "      <td>0.01600</td>\n",
       "      <td>0.01450</td>\n",
       "      <td>0.09600</td>\n",
       "      <td>0.02025</td>\n",
       "    </tr>\n",
       "    <tr>\n",
       "      <th>2</th>\n",
       "      <td>3</td>\n",
       "      <td>0.04200</td>\n",
       "      <td>0.05250</td>\n",
       "      <td>0.02725</td>\n",
       "      <td>0.07975</td>\n",
       "      <td>0.05625</td>\n",
       "      <td>0.07025</td>\n",
       "      <td>0.05975</td>\n",
       "      <td>0.18275</td>\n",
       "      <td>0.05175</td>\n",
       "      <td>...</td>\n",
       "      <td>0.03950</td>\n",
       "      <td>0.02625</td>\n",
       "      <td>0.02725</td>\n",
       "      <td>0.03450</td>\n",
       "      <td>0.16925</td>\n",
       "      <td>0.03525</td>\n",
       "      <td>0.01725</td>\n",
       "      <td>0.01875</td>\n",
       "      <td>0.09925</td>\n",
       "      <td>0.02000</td>\n",
       "    </tr>\n",
       "    <tr>\n",
       "      <th>3</th>\n",
       "      <td>4</td>\n",
       "      <td>0.03600</td>\n",
       "      <td>0.03850</td>\n",
       "      <td>0.03500</td>\n",
       "      <td>0.03125</td>\n",
       "      <td>0.07100</td>\n",
       "      <td>0.04500</td>\n",
       "      <td>0.02475</td>\n",
       "      <td>0.08300</td>\n",
       "      <td>0.05150</td>\n",
       "      <td>...</td>\n",
       "      <td>0.05375</td>\n",
       "      <td>0.03300</td>\n",
       "      <td>0.02275</td>\n",
       "      <td>0.04025</td>\n",
       "      <td>0.19600</td>\n",
       "      <td>0.05700</td>\n",
       "      <td>0.01550</td>\n",
       "      <td>0.01475</td>\n",
       "      <td>0.06625</td>\n",
       "      <td>0.01400</td>\n",
       "    </tr>\n",
       "    <tr>\n",
       "      <th>4</th>\n",
       "      <td>5</td>\n",
       "      <td>0.04075</td>\n",
       "      <td>0.05125</td>\n",
       "      <td>0.05800</td>\n",
       "      <td>0.03675</td>\n",
       "      <td>0.07575</td>\n",
       "      <td>0.12675</td>\n",
       "      <td>0.02975</td>\n",
       "      <td>0.08175</td>\n",
       "      <td>0.03075</td>\n",
       "      <td>...</td>\n",
       "      <td>0.04000</td>\n",
       "      <td>0.02850</td>\n",
       "      <td>0.02100</td>\n",
       "      <td>0.02650</td>\n",
       "      <td>0.15475</td>\n",
       "      <td>0.02050</td>\n",
       "      <td>0.01700</td>\n",
       "      <td>0.01575</td>\n",
       "      <td>0.11275</td>\n",
       "      <td>0.01975</td>\n",
       "    </tr>\n",
       "  </tbody>\n",
       "</table>\n",
       "<p>5 rows × 1129 columns</p>\n",
       "</div>"
      ],
      "text/plain": [
       "   ItemId     tag1     tag2     tag3     tag4     tag5     tag6     tag7  \\\n",
       "0       1  0.02400  0.02400  0.05475  0.09200  0.14825  0.21500  0.06625   \n",
       "1       2  0.03800  0.04175  0.03700  0.04875  0.11075  0.07325  0.04950   \n",
       "2       3  0.04200  0.05250  0.02725  0.07975  0.05625  0.07025  0.05975   \n",
       "3       4  0.03600  0.03850  0.03500  0.03125  0.07100  0.04500  0.02475   \n",
       "4       5  0.04075  0.05125  0.05800  0.03675  0.07575  0.12675  0.02975   \n",
       "\n",
       "      tag8     tag9   ...     tag1119  tag1120  tag1121  tag1122  tag1123  \\\n",
       "0  0.27025  0.26050   ...     0.03650  0.01800  0.04525  0.03275  0.12450   \n",
       "1  0.10775  0.10200   ...     0.03900  0.01925  0.01725  0.02425  0.13425   \n",
       "2  0.18275  0.05175   ...     0.03950  0.02625  0.02725  0.03450  0.16925   \n",
       "3  0.08300  0.05150   ...     0.05375  0.03300  0.02275  0.04025  0.19600   \n",
       "4  0.08175  0.03075   ...     0.04000  0.02850  0.02100  0.02650  0.15475   \n",
       "\n",
       "   tag1124  tag1125  tag1126  tag1127  tag1128  \n",
       "0  0.04175  0.02000  0.03475  0.08350  0.02525  \n",
       "1  0.02225  0.01600  0.01450  0.09600  0.02025  \n",
       "2  0.03525  0.01725  0.01875  0.09925  0.02000  \n",
       "3  0.05700  0.01550  0.01475  0.06625  0.01400  \n",
       "4  0.02050  0.01700  0.01575  0.11275  0.01975  \n",
       "\n",
       "[5 rows x 1129 columns]"
      ]
     },
     "execution_count": 20,
     "metadata": {},
     "output_type": "execute_result"
    }
   ],
   "source": [
    "movie_titles=pd.read_table('D:\\\\Downloads\\\\movielens\\\\ml-1m\\\\ml-1m\\\\movies.dat',sep='::',engine='python',header=None)\n",
    "movie_titles.columns=['ItemId','title','genres']\n",
    "movie_titles=movie_titles[['ItemId','title']]\n",
    "\n",
    "# will save the movie titles for later\n",
    "movie_id_to_title={i.ItemId:i.title for i in movie_titles.itertuples()}\n",
    "\n",
    "movies=pd.read_csv('D:\\\\Downloads\\\\movielens\\\\ml-latest\\\\ml-latest\\\\movies.csv')\n",
    "movies=movies[['movieId','title']]\n",
    "movies=pd.merge(movies,movie_titles)\n",
    "movies=movies[['movieId','ItemId']]\n",
    "\n",
    "tags=pd.read_csv('D:\\\\Downloads\\\\movielens\\\\ml-latest\\\\ml-latest\\\\genome-scores.csv')\n",
    "tags_wide=tags.pivot(index='movieId', columns='tagId', values='relevance')\n",
    "tags_wide=tags_wide.fillna(0)\n",
    "tags_wide.columns=[\"tag\"+str(i) for i in tags_wide.columns.values]\n",
    "\n",
    "movies=pd.merge(movies,tags_wide,how='inner',left_on='movieId',right_index=True)\n",
    "del movies['movieId']\n",
    "movies.head()"
   ]
  },
  {
   "cell_type": "markdown",
   "metadata": {},
   "source": [
    "Just like before, this time I'll also try to get the users' geographical region from the same database as before"
   ]
  },
  {
   "cell_type": "code",
   "execution_count": 21,
   "metadata": {
    "collapsed": false
   },
   "outputs": [
    {
     "name": "stderr",
     "output_type": "stream",
     "text": [
      "C:\\Users\\david\\Anaconda3\\lib\\site-packages\\IPython\\core\\interactiveshell.py:2723: DtypeWarning: Columns (11) have mixed types. Specify dtype option on import or set low_memory=False.\n",
      "  interactivity=interactivity, compiler=compiler, result=result)\n"
     ]
    },
    {
     "data": {
      "text/html": [
       "<div>\n",
       "<style scoped>\n",
       "    .dataframe tbody tr th:only-of-type {\n",
       "        vertical-align: middle;\n",
       "    }\n",
       "\n",
       "    .dataframe tbody tr th {\n",
       "        vertical-align: top;\n",
       "    }\n",
       "\n",
       "    .dataframe thead th {\n",
       "        text-align: right;\n",
       "    }\n",
       "</style>\n",
       "<table border=\"1\" class=\"dataframe\">\n",
       "  <thead>\n",
       "    <tr style=\"text-align: right;\">\n",
       "      <th></th>\n",
       "      <th>UserId</th>\n",
       "      <th>Gender_F</th>\n",
       "      <th>Gender_M</th>\n",
       "      <th>Age_1</th>\n",
       "      <th>Age_18</th>\n",
       "      <th>Age_25</th>\n",
       "      <th>Age_35</th>\n",
       "      <th>Age_45</th>\n",
       "      <th>Age_50</th>\n",
       "      <th>Age_56</th>\n",
       "      <th>...</th>\n",
       "      <th>Occupation_8</th>\n",
       "      <th>Occupation_9</th>\n",
       "      <th>Region_Middle Atlantic</th>\n",
       "      <th>Region_Midwest</th>\n",
       "      <th>Region_New England</th>\n",
       "      <th>Region_South</th>\n",
       "      <th>Region_Southwest</th>\n",
       "      <th>Region_UnknownOrNonUS</th>\n",
       "      <th>Region_UsOther</th>\n",
       "      <th>Region_West</th>\n",
       "    </tr>\n",
       "  </thead>\n",
       "  <tbody>\n",
       "    <tr>\n",
       "      <th>0</th>\n",
       "      <td>1</td>\n",
       "      <td>1</td>\n",
       "      <td>0</td>\n",
       "      <td>1</td>\n",
       "      <td>0</td>\n",
       "      <td>0</td>\n",
       "      <td>0</td>\n",
       "      <td>0</td>\n",
       "      <td>0</td>\n",
       "      <td>0</td>\n",
       "      <td>...</td>\n",
       "      <td>0</td>\n",
       "      <td>0</td>\n",
       "      <td>0</td>\n",
       "      <td>1</td>\n",
       "      <td>0</td>\n",
       "      <td>0</td>\n",
       "      <td>0</td>\n",
       "      <td>0</td>\n",
       "      <td>0</td>\n",
       "      <td>0</td>\n",
       "    </tr>\n",
       "    <tr>\n",
       "      <th>1</th>\n",
       "      <td>2</td>\n",
       "      <td>0</td>\n",
       "      <td>1</td>\n",
       "      <td>0</td>\n",
       "      <td>0</td>\n",
       "      <td>0</td>\n",
       "      <td>0</td>\n",
       "      <td>0</td>\n",
       "      <td>0</td>\n",
       "      <td>1</td>\n",
       "      <td>...</td>\n",
       "      <td>0</td>\n",
       "      <td>0</td>\n",
       "      <td>0</td>\n",
       "      <td>0</td>\n",
       "      <td>0</td>\n",
       "      <td>1</td>\n",
       "      <td>0</td>\n",
       "      <td>0</td>\n",
       "      <td>0</td>\n",
       "      <td>0</td>\n",
       "    </tr>\n",
       "    <tr>\n",
       "      <th>2</th>\n",
       "      <td>3</td>\n",
       "      <td>0</td>\n",
       "      <td>1</td>\n",
       "      <td>0</td>\n",
       "      <td>0</td>\n",
       "      <td>1</td>\n",
       "      <td>0</td>\n",
       "      <td>0</td>\n",
       "      <td>0</td>\n",
       "      <td>0</td>\n",
       "      <td>...</td>\n",
       "      <td>0</td>\n",
       "      <td>0</td>\n",
       "      <td>0</td>\n",
       "      <td>1</td>\n",
       "      <td>0</td>\n",
       "      <td>0</td>\n",
       "      <td>0</td>\n",
       "      <td>0</td>\n",
       "      <td>0</td>\n",
       "      <td>0</td>\n",
       "    </tr>\n",
       "    <tr>\n",
       "      <th>3</th>\n",
       "      <td>4</td>\n",
       "      <td>0</td>\n",
       "      <td>1</td>\n",
       "      <td>0</td>\n",
       "      <td>0</td>\n",
       "      <td>0</td>\n",
       "      <td>0</td>\n",
       "      <td>1</td>\n",
       "      <td>0</td>\n",
       "      <td>0</td>\n",
       "      <td>...</td>\n",
       "      <td>0</td>\n",
       "      <td>0</td>\n",
       "      <td>0</td>\n",
       "      <td>0</td>\n",
       "      <td>1</td>\n",
       "      <td>0</td>\n",
       "      <td>0</td>\n",
       "      <td>0</td>\n",
       "      <td>0</td>\n",
       "      <td>0</td>\n",
       "    </tr>\n",
       "    <tr>\n",
       "      <th>4</th>\n",
       "      <td>5</td>\n",
       "      <td>0</td>\n",
       "      <td>1</td>\n",
       "      <td>0</td>\n",
       "      <td>0</td>\n",
       "      <td>1</td>\n",
       "      <td>0</td>\n",
       "      <td>0</td>\n",
       "      <td>0</td>\n",
       "      <td>0</td>\n",
       "      <td>...</td>\n",
       "      <td>0</td>\n",
       "      <td>0</td>\n",
       "      <td>0</td>\n",
       "      <td>1</td>\n",
       "      <td>0</td>\n",
       "      <td>0</td>\n",
       "      <td>0</td>\n",
       "      <td>0</td>\n",
       "      <td>0</td>\n",
       "      <td>0</td>\n",
       "    </tr>\n",
       "  </tbody>\n",
       "</table>\n",
       "<p>5 rows × 39 columns</p>\n",
       "</div>"
      ],
      "text/plain": [
       "   UserId  Gender_F  Gender_M  Age_1  Age_18  Age_25  Age_35  Age_45  Age_50  \\\n",
       "0       1         1         0      1       0       0       0       0       0   \n",
       "1       2         0         1      0       0       0       0       0       0   \n",
       "2       3         0         1      0       0       1       0       0       0   \n",
       "3       4         0         1      0       0       0       0       1       0   \n",
       "4       5         0         1      0       0       1       0       0       0   \n",
       "\n",
       "   Age_56     ...       Occupation_8  Occupation_9  Region_Middle Atlantic  \\\n",
       "0       0     ...                  0             0                       0   \n",
       "1       1     ...                  0             0                       0   \n",
       "2       0     ...                  0             0                       0   \n",
       "3       0     ...                  0             0                       0   \n",
       "4       0     ...                  0             0                       0   \n",
       "\n",
       "   Region_Midwest  Region_New England  Region_South  Region_Southwest  \\\n",
       "0               1                   0             0                 0   \n",
       "1               0                   0             1                 0   \n",
       "2               1                   0             0                 0   \n",
       "3               0                   1             0                 0   \n",
       "4               1                   0             0                 0   \n",
       "\n",
       "   Region_UnknownOrNonUS  Region_UsOther  Region_West  \n",
       "0                      0               0            0  \n",
       "1                      0               0            0  \n",
       "2                      0               0            0  \n",
       "3                      0               0            0  \n",
       "4                      0               0            0  \n",
       "\n",
       "[5 rows x 39 columns]"
      ]
     },
     "execution_count": 21,
     "metadata": {},
     "output_type": "execute_result"
    }
   ],
   "source": [
    "zipcode_abbs=pd.read_csv(\"D:\\\\Downloads\\\\movielens\\\\zips\\\\states.csv\")\n",
    "zipcode_abbs_dct={z.State:z.Abbreviation for z in zipcode_abbs.itertuples()}\n",
    "us_regs_table=[\n",
    "    ('New England', 'Connecticut, Maine, Massachusetts, New Hampshire, Rhode Island, Vermont'),\n",
    "    ('Middle Atlantic', 'Delaware, Maryland, New Jersey, New York, Pennsylvania'),\n",
    "    ('South', 'Alabama, Arkansas, Florida, Georgia, Kentucky, Louisiana, Mississippi, Missouri, North Carolina, South Carolina, Tennessee, Virginia, West Virginia'),\n",
    "    ('Midwest', 'Illinois, Indiana, Iowa, Kansas, Michigan, Minnesota, Nebraska, North Dakota, Ohio, South Dakota, Wisconsin'),\n",
    "    ('Southwest', 'Arizona, New Mexico, Oklahoma, Texas'),\n",
    "    ('West', 'Alaska, California, Colorado, Hawaii, Idaho, Montana, Nevada, Oregon, Utah, Washington, Wyoming')\n",
    "    ]\n",
    "us_regs_table=[(x[0],[i.strip() for i in x[1].split(\",\")]) for x in us_regs_table]\n",
    "us_regs_dct=dict()\n",
    "for r in us_regs_table:\n",
    "    for s in r[1]:\n",
    "        us_regs_dct[zipcode_abbs_dct[s]]=r[0]\n",
    "        \n",
    "zipcode_info=pd.read_csv(\"D:\\\\Downloads\\\\movielens\\\\free-zipcode-database.csv\")\n",
    "zipcode_info=zipcode_info.groupby('Zipcode').first().reset_index()\n",
    "zipcode_info['State'].loc[zipcode_info.Country!=\"US\"]='UnknownOrNonUS'\n",
    "zipcode_info['Region']=zipcode_info['State'].copy()\n",
    "zipcode_info['Region'].loc[zipcode_info.Country==\"US\"]=zipcode_info.Region.loc[zipcode_info.Country==\"US\"].map(lambda x: us_regs_dct[x] if x in us_regs_dct else 'UsOther')\n",
    "zipcode_info=zipcode_info[['Zipcode', 'Region']]\n",
    "\n",
    "\n",
    "users=pd.read_table('D:\\\\Downloads\\\\movielens\\\\ml-1m\\\\ml-1m\\\\users.dat',sep='::',names=[\"UserId\",\"Gender\",\"Age\",\"Occupation\",\"Zipcode\"], engine='python')\n",
    "users[\"Zipcode\"]=users.Zipcode.map(lambda x: np.int(re.sub(\"-.*\",\"\",x)))\n",
    "users=pd.merge(users,zipcode_info,on='Zipcode',how='left')\n",
    "users['Region']=users.Region.fillna('UnknownOrNonUS')\n",
    "\n",
    "users['Occupation']=users.Occupation.map(lambda x: str(x))\n",
    "users['Age']=users.Age.map(lambda x: str(x))\n",
    "users=pd.get_dummies(users[['UserId','Gender','Age','Occupation','Region']])\n",
    "users.head()"
   ]
  },
  {
   "cell_type": "code",
   "execution_count": 22,
   "metadata": {
    "collapsed": true
   },
   "outputs": [],
   "source": [
    "items_w_side_info=set(list(movies.ItemId))\n",
    "users_w_side_info=set(list(users.UserId))\n",
    "test=test.loc[test.ItemId.map(lambda x: x in items_w_side_info)]\n",
    "test=test.loc[test.UserId.map(lambda x: x in users_w_side_info)]"
   ]
  },
  {
   "cell_type": "markdown",
   "metadata": {},
   "source": [
    "<a id=\"p52\"></a>\n",
    "## 5.2 Model with no side info"
   ]
  },
  {
   "cell_type": "code",
   "execution_count": 23,
   "metadata": {
    "collapsed": false
   },
   "outputs": [
    {
     "name": "stdout",
     "output_type": "stream",
     "text": [
      "INFO:tensorflow:Optimization terminated with:\n",
      "  Message: b'CONVERGENCE: NORM_OF_PROJECTED_GRADIENT_<=_PGTOL'\n",
      "  Objective function value: 1.394558\n",
      "  Number of iterations: 254\n",
      "  Number of functions evaluations: 266\n"
     ]
    },
    {
     "data": {
      "text/plain": [
       "1.0324476780685568"
      ]
     },
     "execution_count": 23,
     "metadata": {},
     "output_type": "execute_result"
    }
   ],
   "source": [
    "from cmfrec import CMF\n",
    "\n",
    "rec1m_basic=CMF(k=50, reg_param=5e-5)\n",
    "rec1m_basic.fit(train)\n",
    "test['Predicted']=test.apply(lambda x: rec1m_basic.predict(x['UserId'],x['ItemId']),axis=1)\n",
    "np.sqrt(np.mean((test.Predicted-test.Rating)**2))"
   ]
  },
  {
   "cell_type": "code",
   "execution_count": 24,
   "metadata": {
    "collapsed": false
   },
   "outputs": [
    {
     "name": "stdout",
     "output_type": "stream",
     "text": [
      "Averge movie rating: 3.568925405023363\n",
      "Average rating for top-5 rated by each user: 4.471820258948972\n",
      "Average rating for bottom-5 rated by each user: 2.423076923076923\n",
      "Average rating for top-5 recommendations of best-rated movies: 3.9897182025894895\n",
      "----------------------\n",
      "Average rating for top-5 recommendations from this model: 4.036938309215537\n",
      "Average rating for bottom-5 (non-)recommendations from this model: 3.0304645849200305\n"
     ]
    }
   ],
   "source": [
    "avg_ratings=train.groupby('ItemId')['Rating'].mean().to_frame().rename(columns={\"Rating\":\"AvgRating\"})\n",
    "test2=pd.merge(test,avg_ratings,left_on='ItemId',right_index=True,how='left')\n",
    "\n",
    "print('Averge movie rating:',test2.groupby('UserId')['Rating'].mean().mean())\n",
    "print('Average rating for top-5 rated by each user:',test2.sort_values(['UserId','Rating'],ascending=False).groupby('UserId')['Rating'].head(5).mean())\n",
    "print('Average rating for bottom-5 rated by each user:',test2.sort_values(['UserId','Rating'],ascending=True).groupby('UserId')['Rating'].head(5).mean())\n",
    "print('Average rating for top-5 recommendations of best-rated movies:',test2.sort_values(['UserId','AvgRating'],ascending=False).groupby('UserId')['Rating'].head(5).mean())\n",
    "print('----------------------')\n",
    "print('Average rating for top-5 recommendations from this model:',test2.sort_values(['UserId','Predicted'],ascending=False).groupby('UserId')['Rating'].head(5).mean())\n",
    "print('Average rating for bottom-5 (non-)recommendations from this model:',test2.sort_values(['UserId','Predicted'],ascending=True).groupby('UserId')['Rating'].head(5).mean())"
   ]
  },
  {
   "cell_type": "markdown",
   "metadata": {},
   "source": [
    "<a id=\"p53\"></a>\n",
    "## 5.3 Model with movie tags and user demographics"
   ]
  },
  {
   "cell_type": "code",
   "execution_count": 25,
   "metadata": {
    "collapsed": false
   },
   "outputs": [
    {
     "name": "stdout",
     "output_type": "stream",
     "text": [
      "INFO:tensorflow:Optimization terminated with:\n",
      "  Message: b'CONVERGENCE: REL_REDUCTION_OF_F_<=_FACTR*EPSMCH'\n",
      "  Objective function value: 3.240518\n",
      "  Number of iterations: 568\n",
      "  Number of functions evaluations: 610\n",
      "Wall time: 8min 24s\n"
     ]
    }
   ],
   "source": [
    "%%time\n",
    "rec1m_basic=CMF(k=40, k_main=10, k_item=15, k_user=0, w_main=3, reg_param=1e-4)\n",
    "rec1m_basic.fit(train, movies, users)\n",
    "test['Predicted']=test.apply(lambda x: rec1m_basic.predict(x['UserId'],x['ItemId']),axis=1)"
   ]
  },
  {
   "cell_type": "code",
   "execution_count": 26,
   "metadata": {
    "collapsed": false
   },
   "outputs": [
    {
     "data": {
      "text/plain": [
       "1.0203154742497973"
      ]
     },
     "execution_count": 26,
     "metadata": {},
     "output_type": "execute_result"
    }
   ],
   "source": [
    "np.sqrt(np.mean((test.Predicted-test.Rating)**2))"
   ]
  },
  {
   "cell_type": "code",
   "execution_count": 27,
   "metadata": {
    "collapsed": false
   },
   "outputs": [
    {
     "name": "stdout",
     "output_type": "stream",
     "text": [
      "Averge movie rating: 3.568925405023363\n",
      "Average rating for top-5 rated by each user: 4.471820258948972\n",
      "Average rating for bottom-5 rated by each user: 2.423076923076923\n",
      "Average rating for top-5 recommendations of best-rated movies: 3.9897182025894895\n",
      "----------------------\n",
      "Average rating for top-5 recommendations from this model: 4.025133282559025\n",
      "Average rating for bottom-5 (non-)recommendations from this model: 3.0144706778370143\n"
     ]
    }
   ],
   "source": [
    "test2=pd.merge(test,avg_ratings,left_on='ItemId',right_index=True,how='left')\n",
    "\n",
    "print('Averge movie rating:',test2.groupby('UserId')['Rating'].mean().mean())\n",
    "print('Average rating for top-5 rated by each user:',test2.sort_values(['UserId','Rating'],ascending=False).groupby('UserId')['Rating'].head(5).mean())\n",
    "print('Average rating for bottom-5 rated by each user:',test2.sort_values(['UserId','Rating'],ascending=True).groupby('UserId')['Rating'].head(5).mean())\n",
    "print('Average rating for top-5 recommendations of best-rated movies:',test2.sort_values(['UserId','AvgRating'],ascending=False).groupby('UserId')['Rating'].head(5).mean())\n",
    "print('----------------------')\n",
    "print('Average rating for top-5 recommendations from this model:',test2.sort_values(['UserId','Predicted'],ascending=False).groupby('UserId')['Rating'].head(5).mean())\n",
    "print('Average rating for bottom-5 (non-)recommendations from this model:',test2.sort_values(['UserId','Predicted'],ascending=True).groupby('UserId')['Rating'].head(5).mean())"
   ]
  }
 ],
 "metadata": {
  "anaconda-cloud": {},
  "kernelspec": {
   "display_name": "Python [Root]",
   "language": "python",
   "name": "Python [Root]"
  },
  "language_info": {
   "codemirror_mode": {
    "name": "ipython",
    "version": 3
   },
   "file_extension": ".py",
   "mimetype": "text/x-python",
   "name": "python",
   "nbconvert_exporter": "python",
   "pygments_lexer": "ipython3",
   "version": "3.5.2"
  }
 },
 "nbformat": 4,
 "nbformat_minor": 0
}
